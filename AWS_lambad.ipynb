{
 "cells": [
  {
   "cell_type": "code",
   "execution_count": 31,
   "metadata": {},
   "outputs": [],
   "source": [
    "import pandas as pd\n",
    "import json"
   ]
  },
  {
   "cell_type": "code",
   "execution_count": 32,
   "metadata": {},
   "outputs": [],
   "source": [
    "dev_db = r'Dataset\\Procesado\\dev_db.parquet'"
   ]
  },
  {
   "cell_type": "code",
   "execution_count": 33,
   "metadata": {},
   "outputs": [
    {
     "data": {
      "text/html": [
       "<div>\n",
       "<style scoped>\n",
       "    .dataframe tbody tr th:only-of-type {\n",
       "        vertical-align: middle;\n",
       "    }\n",
       "\n",
       "    .dataframe tbody tr th {\n",
       "        vertical-align: top;\n",
       "    }\n",
       "\n",
       "    .dataframe thead th {\n",
       "        text-align: right;\n",
       "    }\n",
       "</style>\n",
       "<table border=\"1\" class=\"dataframe\">\n",
       "  <thead>\n",
       "    <tr style=\"text-align: right;\">\n",
       "      <th></th>\n",
       "      <th>item_id</th>\n",
       "      <th>malo</th>\n",
       "      <th>neutral</th>\n",
       "      <th>positivo</th>\n",
       "      <th>developer</th>\n",
       "      <th>release_date</th>\n",
       "      <th>price</th>\n",
       "    </tr>\n",
       "  </thead>\n",
       "  <tbody>\n",
       "    <tr>\n",
       "      <th>25745</th>\n",
       "      <td>730</td>\n",
       "      <td>0</td>\n",
       "      <td>0</td>\n",
       "      <td>1</td>\n",
       "      <td>Valve</td>\n",
       "      <td>2012-08-21</td>\n",
       "      <td>14.99</td>\n",
       "    </tr>\n",
       "    <tr>\n",
       "      <th>7420</th>\n",
       "      <td>550</td>\n",
       "      <td>0</td>\n",
       "      <td>1</td>\n",
       "      <td>0</td>\n",
       "      <td>Valve</td>\n",
       "      <td>2009-11-16</td>\n",
       "      <td>19.99</td>\n",
       "    </tr>\n",
       "    <tr>\n",
       "      <th>32268</th>\n",
       "      <td>271590</td>\n",
       "      <td>0</td>\n",
       "      <td>1</td>\n",
       "      <td>0</td>\n",
       "      <td>Rockstar North</td>\n",
       "      <td>2015-04-14</td>\n",
       "      <td>39.99</td>\n",
       "    </tr>\n",
       "    <tr>\n",
       "      <th>39871</th>\n",
       "      <td>319630</td>\n",
       "      <td>0</td>\n",
       "      <td>0</td>\n",
       "      <td>1</td>\n",
       "      <td>DONTNOD Entertainment,Feral Interactive (Mac),...</td>\n",
       "      <td>2015-01-29</td>\n",
       "      <td>0.00</td>\n",
       "    </tr>\n",
       "    <tr>\n",
       "      <th>2543</th>\n",
       "      <td>15620</td>\n",
       "      <td>0</td>\n",
       "      <td>1</td>\n",
       "      <td>0</td>\n",
       "      <td>Relic Entertainment,Feral Interactive (Mac/Linux)</td>\n",
       "      <td>2009-02-18</td>\n",
       "      <td>19.99</td>\n",
       "    </tr>\n",
       "  </tbody>\n",
       "</table>\n",
       "</div>"
      ],
      "text/plain": [
       "       item_id  malo  neutral  positivo  \\\n",
       "25745      730     0        0         1   \n",
       "7420       550     0        1         0   \n",
       "32268   271590     0        1         0   \n",
       "39871   319630     0        0         1   \n",
       "2543     15620     0        1         0   \n",
       "\n",
       "                                               developer release_date  price  \n",
       "25745                                              Valve   2012-08-21  14.99  \n",
       "7420                                               Valve   2009-11-16  19.99  \n",
       "32268                                     Rockstar North   2015-04-14  39.99  \n",
       "39871  DONTNOD Entertainment,Feral Interactive (Mac),...   2015-01-29   0.00  \n",
       "2543   Relic Entertainment,Feral Interactive (Mac/Linux)   2009-02-18  19.99  "
      ]
     },
     "execution_count": 33,
     "metadata": {},
     "output_type": "execute_result"
    }
   ],
   "source": [
    "df = pd.read_parquet(dev_db)\n",
    "df.sample(5)"
   ]
  },
  {
   "cell_type": "code",
   "execution_count": 62,
   "metadata": {},
   "outputs": [
    {
     "name": "stdout",
     "output_type": "stream",
     "text": [
      "<class 'pandas.core.frame.DataFrame'>\n",
      "RangeIndex: 49057 entries, 0 to 49056\n",
      "Data columns (total 7 columns):\n",
      " #   Column        Non-Null Count  Dtype         \n",
      "---  ------        --------------  -----         \n",
      " 0   item_id       49057 non-null  int32         \n",
      " 1   malo          49057 non-null  int64         \n",
      " 2   neutral       49057 non-null  int64         \n",
      " 3   positivo      49057 non-null  int64         \n",
      " 4   developer     49057 non-null  object        \n",
      " 5   release_date  49057 non-null  datetime64[ns]\n",
      " 6   price         49057 non-null  float64       \n",
      "dtypes: datetime64[ns](1), float64(1), int32(1), int64(3), object(1)\n",
      "memory usage: 2.4+ MB\n"
     ]
    }
   ],
   "source": [
    "df.info()"
   ]
  },
  {
   "cell_type": "markdown",
   "metadata": {},
   "source": [
    "## <div style=\"color: lightgreen; text-align: center;\"> ...  def developer  ... </div>"
   ]
  },
  {
   "cell_type": "code",
   "execution_count": null,
   "metadata": {},
   "outputs": [],
   "source": [
    "aggregation_functions = {\n",
    "    'item_id': 'sum',  # Suma de la columna 'item_id' por año\n",
    "    'price': lambda x: (x == 0).sum()  # Conteo de filas donde 'price' es igual a 0 por año\n",
    "}"
   ]
  },
  {
   "cell_type": "code",
   "execution_count": null,
   "metadata": {},
   "outputs": [],
   "source": [
    "resultado_por_anio =df.groupby(df['release_date'].dt.year).agg(aggregation_functions)\n",
    "print(resultado_por_anio)\n"
   ]
  },
  {
   "cell_type": "code",
   "execution_count": null,
   "metadata": {},
   "outputs": [],
   "source": [
    "developer = resultado_por_anio.to_json()"
   ]
  },
  {
   "cell_type": "code",
   "execution_count": null,
   "metadata": {},
   "outputs": [],
   "source": []
  },
  {
   "cell_type": "code",
   "execution_count": null,
   "metadata": {},
   "outputs": [],
   "source": [
    "type(resultado_por_anio)"
   ]
  },
  {
   "cell_type": "code",
   "execution_count": null,
   "metadata": {},
   "outputs": [],
   "source": [
    "resultado_por_anio.columns = ['numero de items', 'Contenido Free']"
   ]
  },
  {
   "cell_type": "code",
   "execution_count": null,
   "metadata": {},
   "outputs": [],
   "source": [
    "print(resultado_por_anio)"
   ]
  },
  {
   "cell_type": "code",
   "execution_count": null,
   "metadata": {},
   "outputs": [],
   "source": [
    "#Cantidad de items\n",
    "c_items = df[df['developer'] == 'Valve'].groupby(df['release_date'].dt.year)['item_id'].sum()"
   ]
  },
  {
   "cell_type": "code",
   "execution_count": null,
   "metadata": {},
   "outputs": [],
   "source": [
    "type(c_items)"
   ]
  },
  {
   "cell_type": "code",
   "execution_count": null,
   "metadata": {},
   "outputs": [],
   "source": [
    "df['developer'].value_counts()"
   ]
  },
  {
   "cell_type": "markdown",
   "metadata": {},
   "source": [
    "## <div style=\"color: lightgreen; text-align: center;\"> .  def best_developer_year  . </div>\n"
   ]
  },
  {
   "cell_type": "code",
   "execution_count": null,
   "metadata": {},
   "outputs": [],
   "source": [
    "df.sample(5)"
   ]
  },
  {
   "cell_type": "code",
   "execution_count": 80,
   "metadata": {},
   "outputs": [],
   "source": [
    "b_dev = df[df['release_date'].dt.year == 2017]"
   ]
  },
  {
   "cell_type": "code",
   "execution_count": 81,
   "metadata": {},
   "outputs": [],
   "source": [
    "dev_reviews = b_dev.groupby('developer')['positivo'].sum()"
   ]
  },
  {
   "cell_type": "code",
   "execution_count": 82,
   "metadata": {},
   "outputs": [],
   "source": [
    "top_devs = dev_reviews.nlargest(3)\n"
   ]
  },
  {
   "cell_type": "code",
   "execution_count": 83,
   "metadata": {},
   "outputs": [],
   "source": [
    "top_dev_json = top_devs.to_json()"
   ]
  },
  {
   "cell_type": "code",
   "execution_count": 84,
   "metadata": {},
   "outputs": [
    {
     "name": "stdout",
     "output_type": "stream",
     "text": [
      "{\"Smartly Dressed Games\":632,\"Freejam\":217,\"Studio Wildcard,Instinct Games,Efecto Studios,Virtual Basement LLC\":188}\n"
     ]
    }
   ],
   "source": [
    "print(top_dev_json)"
   ]
  },
  {
   "cell_type": "markdown",
   "metadata": {},
   "source": [
    "## <div style=\"color: lightgreen; text-align: center;\"> .  def developer_reviews_analysis  . </div>"
   ]
  },
  {
   "cell_type": "code",
   "execution_count": 90,
   "metadata": {},
   "outputs": [],
   "source": [
    "dev_d = df[df['developer'] == 'Valve']"
   ]
  },
  {
   "cell_type": "code",
   "execution_count": 91,
   "metadata": {},
   "outputs": [],
   "source": [
    "dev_r = dev_d.groupby('developer')[['positivo', 'malo']].sum()"
   ]
  },
  {
   "cell_type": "code",
   "execution_count": 92,
   "metadata": {},
   "outputs": [],
   "source": [
    "dev_j = dev_r.to_json()"
   ]
  },
  {
   "cell_type": "code",
   "execution_count": null,
   "metadata": {},
   "outputs": [],
   "source": [
    "result = "
   ]
  },
  {
   "cell_type": "code",
   "execution_count": 93,
   "metadata": {},
   "outputs": [
    {
     "name": "stdout",
     "output_type": "stream",
     "text": [
      "{\"positivo\":{\"Valve\":6056},\"malo\":{\"Valve\":1098}}\n"
     ]
    }
   ],
   "source": [
    "print(dev_j)"
   ]
  },
  {
   "cell_type": "code",
   "execution_count": 95,
   "metadata": {},
   "outputs": [
    {
     "name": "stdout",
     "output_type": "stream",
     "text": [
      "{'Valve': {'Negativo': 1098, 'Positivo': 6056}}\n"
     ]
    }
   ],
   "source": [
    "dev = 'Valve' # Variable event de lambda\n",
    "d_data = df[df['developer'] == dev]\n",
    "\n",
    "neg_r = d_data['malo'].sum()\n",
    "pos_r = d_data['positivo'].sum()\n",
    "\n",
    "result = {dev:{'Negativo': neg_r, 'Positivo': pos_r}}\n",
    "\n",
    "\n",
    "result_df = pd.DataFrame(result).T  # Convertir el diccionario en un DataFrame transpuesto\n",
    "result_json = result_df.to_json()\n",
    "\n",
    "print(result)"
   ]
  },
  {
   "cell_type": "markdown",
   "metadata": {},
   "source": [
    "## <div style=\"color: lightgreen; text-align: center;\"> .  def user_data  . </div>"
   ]
  },
  {
   "cell_type": "code",
   "execution_count": 147,
   "metadata": {},
   "outputs": [],
   "source": [
    "user_db = r'Dataset\\Procesado\\user_db.parquet'"
   ]
  },
  {
   "cell_type": "code",
   "execution_count": 148,
   "metadata": {},
   "outputs": [
    {
     "data": {
      "text/html": [
       "<div>\n",
       "<style scoped>\n",
       "    .dataframe tbody tr th:only-of-type {\n",
       "        vertical-align: middle;\n",
       "    }\n",
       "\n",
       "    .dataframe tbody tr th {\n",
       "        vertical-align: top;\n",
       "    }\n",
       "\n",
       "    .dataframe thead th {\n",
       "        text-align: right;\n",
       "    }\n",
       "</style>\n",
       "<table border=\"1\" class=\"dataframe\">\n",
       "  <thead>\n",
       "    <tr style=\"text-align: right;\">\n",
       "      <th></th>\n",
       "      <th>price</th>\n",
       "      <th>Accounting</th>\n",
       "      <th>Action</th>\n",
       "      <th>Adventure</th>\n",
       "      <th>Animation &amp;amp; Modeling</th>\n",
       "      <th>Audio Production</th>\n",
       "      <th>Casual</th>\n",
       "      <th>Design &amp;amp; Illustration</th>\n",
       "      <th>Early Access</th>\n",
       "      <th>Education</th>\n",
       "      <th>...</th>\n",
       "      <th>Sports</th>\n",
       "      <th>Strategy</th>\n",
       "      <th>Utilities</th>\n",
       "      <th>Video Production</th>\n",
       "      <th>Web Publishing</th>\n",
       "      <th>item_id</th>\n",
       "      <th>user_id</th>\n",
       "      <th>review_sum</th>\n",
       "      <th>item_name</th>\n",
       "      <th>playtime_forever</th>\n",
       "    </tr>\n",
       "  </thead>\n",
       "  <tbody>\n",
       "    <tr>\n",
       "      <th>0</th>\n",
       "      <td>9.99</td>\n",
       "      <td>0.0</td>\n",
       "      <td>1.0</td>\n",
       "      <td>0.0</td>\n",
       "      <td>0.0</td>\n",
       "      <td>0.0</td>\n",
       "      <td>0.0</td>\n",
       "      <td>0.0</td>\n",
       "      <td>0.0</td>\n",
       "      <td>0.0</td>\n",
       "      <td>...</td>\n",
       "      <td>0.0</td>\n",
       "      <td>0.0</td>\n",
       "      <td>0.0</td>\n",
       "      <td>0.0</td>\n",
       "      <td>0.0</td>\n",
       "      <td>10</td>\n",
       "      <td>-GM-Dragon</td>\n",
       "      <td>2.0</td>\n",
       "      <td>Counter-Strike</td>\n",
       "      <td>14.0</td>\n",
       "    </tr>\n",
       "    <tr>\n",
       "      <th>1</th>\n",
       "      <td>9.99</td>\n",
       "      <td>0.0</td>\n",
       "      <td>1.0</td>\n",
       "      <td>0.0</td>\n",
       "      <td>0.0</td>\n",
       "      <td>0.0</td>\n",
       "      <td>0.0</td>\n",
       "      <td>0.0</td>\n",
       "      <td>0.0</td>\n",
       "      <td>0.0</td>\n",
       "      <td>...</td>\n",
       "      <td>0.0</td>\n",
       "      <td>0.0</td>\n",
       "      <td>0.0</td>\n",
       "      <td>0.0</td>\n",
       "      <td>0.0</td>\n",
       "      <td>10</td>\n",
       "      <td>-Mad-</td>\n",
       "      <td>2.0</td>\n",
       "      <td>Counter-Strike</td>\n",
       "      <td>8.0</td>\n",
       "    </tr>\n",
       "    <tr>\n",
       "      <th>2</th>\n",
       "      <td>9.99</td>\n",
       "      <td>0.0</td>\n",
       "      <td>1.0</td>\n",
       "      <td>0.0</td>\n",
       "      <td>0.0</td>\n",
       "      <td>0.0</td>\n",
       "      <td>0.0</td>\n",
       "      <td>0.0</td>\n",
       "      <td>0.0</td>\n",
       "      <td>0.0</td>\n",
       "      <td>...</td>\n",
       "      <td>0.0</td>\n",
       "      <td>0.0</td>\n",
       "      <td>0.0</td>\n",
       "      <td>0.0</td>\n",
       "      <td>0.0</td>\n",
       "      <td>10</td>\n",
       "      <td>-SEVEN-</td>\n",
       "      <td>9.0</td>\n",
       "      <td>Counter-Strike</td>\n",
       "      <td>617.0</td>\n",
       "    </tr>\n",
       "    <tr>\n",
       "      <th>3</th>\n",
       "      <td>9.99</td>\n",
       "      <td>0.0</td>\n",
       "      <td>1.0</td>\n",
       "      <td>0.0</td>\n",
       "      <td>0.0</td>\n",
       "      <td>0.0</td>\n",
       "      <td>0.0</td>\n",
       "      <td>0.0</td>\n",
       "      <td>0.0</td>\n",
       "      <td>0.0</td>\n",
       "      <td>...</td>\n",
       "      <td>0.0</td>\n",
       "      <td>0.0</td>\n",
       "      <td>0.0</td>\n",
       "      <td>0.0</td>\n",
       "      <td>0.0</td>\n",
       "      <td>10</td>\n",
       "      <td>-SatansLittleHelper-</td>\n",
       "      <td>1.0</td>\n",
       "      <td>Counter-Strike</td>\n",
       "      <td>511.0</td>\n",
       "    </tr>\n",
       "    <tr>\n",
       "      <th>4</th>\n",
       "      <td>9.99</td>\n",
       "      <td>0.0</td>\n",
       "      <td>1.0</td>\n",
       "      <td>0.0</td>\n",
       "      <td>0.0</td>\n",
       "      <td>0.0</td>\n",
       "      <td>0.0</td>\n",
       "      <td>0.0</td>\n",
       "      <td>0.0</td>\n",
       "      <td>0.0</td>\n",
       "      <td>...</td>\n",
       "      <td>0.0</td>\n",
       "      <td>0.0</td>\n",
       "      <td>0.0</td>\n",
       "      <td>0.0</td>\n",
       "      <td>0.0</td>\n",
       "      <td>10</td>\n",
       "      <td>-Ultrix</td>\n",
       "      <td>1.0</td>\n",
       "      <td>Counter-Strike</td>\n",
       "      <td>5.0</td>\n",
       "    </tr>\n",
       "  </tbody>\n",
       "</table>\n",
       "<p>5 rows × 28 columns</p>\n",
       "</div>"
      ],
      "text/plain": [
       "   price  Accounting  Action  Adventure  Animation &amp; Modeling  \\\n",
       "0   9.99         0.0     1.0        0.0                       0.0   \n",
       "1   9.99         0.0     1.0        0.0                       0.0   \n",
       "2   9.99         0.0     1.0        0.0                       0.0   \n",
       "3   9.99         0.0     1.0        0.0                       0.0   \n",
       "4   9.99         0.0     1.0        0.0                       0.0   \n",
       "\n",
       "   Audio Production  Casual  Design &amp; Illustration  Early Access  \\\n",
       "0               0.0     0.0                        0.0           0.0   \n",
       "1               0.0     0.0                        0.0           0.0   \n",
       "2               0.0     0.0                        0.0           0.0   \n",
       "3               0.0     0.0                        0.0           0.0   \n",
       "4               0.0     0.0                        0.0           0.0   \n",
       "\n",
       "   Education  ...  Sports  Strategy  Utilities  Video Production  \\\n",
       "0        0.0  ...     0.0       0.0        0.0               0.0   \n",
       "1        0.0  ...     0.0       0.0        0.0               0.0   \n",
       "2        0.0  ...     0.0       0.0        0.0               0.0   \n",
       "3        0.0  ...     0.0       0.0        0.0               0.0   \n",
       "4        0.0  ...     0.0       0.0        0.0               0.0   \n",
       "\n",
       "   Web Publishing  item_id               user_id  review_sum       item_name  \\\n",
       "0             0.0       10            -GM-Dragon         2.0  Counter-Strike   \n",
       "1             0.0       10                 -Mad-         2.0  Counter-Strike   \n",
       "2             0.0       10               -SEVEN-         9.0  Counter-Strike   \n",
       "3             0.0       10  -SatansLittleHelper-         1.0  Counter-Strike   \n",
       "4             0.0       10               -Ultrix         1.0  Counter-Strike   \n",
       "\n",
       "   playtime_forever  \n",
       "0              14.0  \n",
       "1               8.0  \n",
       "2             617.0  \n",
       "3             511.0  \n",
       "4               5.0  \n",
       "\n",
       "[5 rows x 28 columns]"
      ]
     },
     "execution_count": 148,
     "metadata": {},
     "output_type": "execute_result"
    }
   ],
   "source": [
    "df = pd.read_parquet(user_db)\n",
    "df.head(5)"
   ]
  },
  {
   "cell_type": "code",
   "execution_count": null,
   "metadata": {},
   "outputs": [],
   "source": []
  },
  {
   "cell_type": "code",
   "execution_count": 149,
   "metadata": {},
   "outputs": [],
   "source": [
    "user = '-Mad-'"
   ]
  },
  {
   "cell_type": "code",
   "execution_count": 150,
   "metadata": {},
   "outputs": [],
   "source": [
    "dfm = df[df['user_id'] == user]"
   ]
  },
  {
   "cell_type": "code",
   "execution_count": 151,
   "metadata": {},
   "outputs": [],
   "source": [
    "money = dfm.groupby('user_id')['price'].sum()\n",
    "items = dfm.groupby('user_id')['item_id'].value_counts().sum()"
   ]
  },
  {
   "cell_type": "code",
   "execution_count": 159,
   "metadata": {},
   "outputs": [],
   "source": [
    "result = {\"Usuario X\": user, \"Dinero gastado\": float(money.values[0]), \"Cantidad de items\": int(items)}"
   ]
  },
  {
   "cell_type": "code",
   "execution_count": 160,
   "metadata": {},
   "outputs": [
    {
     "name": "stdout",
     "output_type": "stream",
     "text": [
      "{'Usuario X': '-Mad-', 'Dinero gastado': 3638.23, 'Cantidad de items': 296}\n"
     ]
    }
   ],
   "source": [
    "print(result)"
   ]
  },
  {
   "cell_type": "code",
   "execution_count": null,
   "metadata": {},
   "outputs": [],
   "source": [
    "#Lambda Function\n",
    "\n",
    "# user = '-Mad-'\n",
    "\n",
    "# dfm = df[df['user_id'] == user]\n",
    "\n",
    "# money = dfm.groupby('user_id')['price'].sum()\n",
    "# items = dfm.groupby('user_id')['item_id'].value_counts().sum()\n",
    "\n",
    "# result = {\"Usuario X\": user, \"Dinero gastado\": float(money.values), \"Cantidad de items\": int(items)}\n",
    "\n",
    "# print(result)"
   ]
  },
  {
   "cell_type": "markdown",
   "metadata": {},
   "source": [
    "## <div style=\"color: lightgreen; text-align: center;\"> .  def UserForGenre  . </div>"
   ]
  },
  {
   "cell_type": "code",
   "execution_count": 130,
   "metadata": {},
   "outputs": [
    {
     "data": {
      "text/html": [
       "<div>\n",
       "<style scoped>\n",
       "    .dataframe tbody tr th:only-of-type {\n",
       "        vertical-align: middle;\n",
       "    }\n",
       "\n",
       "    .dataframe tbody tr th {\n",
       "        vertical-align: top;\n",
       "    }\n",
       "\n",
       "    .dataframe thead th {\n",
       "        text-align: right;\n",
       "    }\n",
       "</style>\n",
       "<table border=\"1\" class=\"dataframe\">\n",
       "  <thead>\n",
       "    <tr style=\"text-align: right;\">\n",
       "      <th></th>\n",
       "      <th>price</th>\n",
       "      <th>Accounting</th>\n",
       "      <th>Action</th>\n",
       "      <th>Adventure</th>\n",
       "      <th>Animation &amp;amp; Modeling</th>\n",
       "      <th>Audio Production</th>\n",
       "      <th>Casual</th>\n",
       "      <th>Design &amp;amp; Illustration</th>\n",
       "      <th>Early Access</th>\n",
       "      <th>Education</th>\n",
       "      <th>...</th>\n",
       "      <th>Sports</th>\n",
       "      <th>Strategy</th>\n",
       "      <th>Utilities</th>\n",
       "      <th>Video Production</th>\n",
       "      <th>Web Publishing</th>\n",
       "      <th>item_id</th>\n",
       "      <th>user_id</th>\n",
       "      <th>review_sum</th>\n",
       "      <th>item_name</th>\n",
       "      <th>playtime_forever</th>\n",
       "    </tr>\n",
       "  </thead>\n",
       "  <tbody>\n",
       "    <tr>\n",
       "      <th>455071</th>\n",
       "      <td>24.99</td>\n",
       "      <td>0.0</td>\n",
       "      <td>1.0</td>\n",
       "      <td>0.0</td>\n",
       "      <td>0.0</td>\n",
       "      <td>0.0</td>\n",
       "      <td>0.0</td>\n",
       "      <td>0.0</td>\n",
       "      <td>0.0</td>\n",
       "      <td>0.0</td>\n",
       "      <td>...</td>\n",
       "      <td>0.0</td>\n",
       "      <td>0.0</td>\n",
       "      <td>0.0</td>\n",
       "      <td>0.0</td>\n",
       "      <td>0.0</td>\n",
       "      <td>219640</td>\n",
       "      <td>plumbers</td>\n",
       "      <td>4.0</td>\n",
       "      <td>Chivalry: Medieval Warfare</td>\n",
       "      <td>56.0</td>\n",
       "    </tr>\n",
       "    <tr>\n",
       "      <th>144442</th>\n",
       "      <td>14.99</td>\n",
       "      <td>0.0</td>\n",
       "      <td>1.0</td>\n",
       "      <td>0.0</td>\n",
       "      <td>0.0</td>\n",
       "      <td>0.0</td>\n",
       "      <td>0.0</td>\n",
       "      <td>0.0</td>\n",
       "      <td>0.0</td>\n",
       "      <td>0.0</td>\n",
       "      <td>...</td>\n",
       "      <td>0.0</td>\n",
       "      <td>0.0</td>\n",
       "      <td>0.0</td>\n",
       "      <td>0.0</td>\n",
       "      <td>0.0</td>\n",
       "      <td>16450</td>\n",
       "      <td>Lad123</td>\n",
       "      <td>2.0</td>\n",
       "      <td>F.E.A.R. 2: Project Origin</td>\n",
       "      <td>0.0</td>\n",
       "    </tr>\n",
       "    <tr>\n",
       "      <th>1876309</th>\n",
       "      <td>19.99</td>\n",
       "      <td>0.0</td>\n",
       "      <td>1.0</td>\n",
       "      <td>1.0</td>\n",
       "      <td>0.0</td>\n",
       "      <td>0.0</td>\n",
       "      <td>0.0</td>\n",
       "      <td>0.0</td>\n",
       "      <td>0.0</td>\n",
       "      <td>0.0</td>\n",
       "      <td>...</td>\n",
       "      <td>0.0</td>\n",
       "      <td>0.0</td>\n",
       "      <td>0.0</td>\n",
       "      <td>0.0</td>\n",
       "      <td>0.0</td>\n",
       "      <td>620</td>\n",
       "      <td>76561198055819674</td>\n",
       "      <td>5.0</td>\n",
       "      <td>Portal 2</td>\n",
       "      <td>184.0</td>\n",
       "    </tr>\n",
       "    <tr>\n",
       "      <th>1819482</th>\n",
       "      <td>19.99</td>\n",
       "      <td>0.0</td>\n",
       "      <td>1.0</td>\n",
       "      <td>1.0</td>\n",
       "      <td>0.0</td>\n",
       "      <td>0.0</td>\n",
       "      <td>0.0</td>\n",
       "      <td>0.0</td>\n",
       "      <td>0.0</td>\n",
       "      <td>0.0</td>\n",
       "      <td>...</td>\n",
       "      <td>0.0</td>\n",
       "      <td>0.0</td>\n",
       "      <td>0.0</td>\n",
       "      <td>0.0</td>\n",
       "      <td>0.0</td>\n",
       "      <td>50620</td>\n",
       "      <td>Thisbananaistastyfam</td>\n",
       "      <td>6.0</td>\n",
       "      <td>Darksiders</td>\n",
       "      <td>0.0</td>\n",
       "    </tr>\n",
       "    <tr>\n",
       "      <th>482013</th>\n",
       "      <td>9.99</td>\n",
       "      <td>0.0</td>\n",
       "      <td>0.0</td>\n",
       "      <td>0.0</td>\n",
       "      <td>0.0</td>\n",
       "      <td>0.0</td>\n",
       "      <td>0.0</td>\n",
       "      <td>0.0</td>\n",
       "      <td>0.0</td>\n",
       "      <td>0.0</td>\n",
       "      <td>...</td>\n",
       "      <td>0.0</td>\n",
       "      <td>0.0</td>\n",
       "      <td>0.0</td>\n",
       "      <td>0.0</td>\n",
       "      <td>0.0</td>\n",
       "      <td>220780</td>\n",
       "      <td>76561198079765149</td>\n",
       "      <td>1.0</td>\n",
       "      <td>Thomas Was Alone</td>\n",
       "      <td>177.0</td>\n",
       "    </tr>\n",
       "  </tbody>\n",
       "</table>\n",
       "<p>5 rows × 28 columns</p>\n",
       "</div>"
      ],
      "text/plain": [
       "         price  Accounting  Action  Adventure  Animation &amp; Modeling  \\\n",
       "455071   24.99         0.0     1.0        0.0                       0.0   \n",
       "144442   14.99         0.0     1.0        0.0                       0.0   \n",
       "1876309  19.99         0.0     1.0        1.0                       0.0   \n",
       "1819482  19.99         0.0     1.0        1.0                       0.0   \n",
       "482013    9.99         0.0     0.0        0.0                       0.0   \n",
       "\n",
       "         Audio Production  Casual  Design &amp; Illustration  Early Access  \\\n",
       "455071                0.0     0.0                        0.0           0.0   \n",
       "144442                0.0     0.0                        0.0           0.0   \n",
       "1876309               0.0     0.0                        0.0           0.0   \n",
       "1819482               0.0     0.0                        0.0           0.0   \n",
       "482013                0.0     0.0                        0.0           0.0   \n",
       "\n",
       "         Education  ...  Sports  Strategy  Utilities  Video Production  \\\n",
       "455071         0.0  ...     0.0       0.0        0.0               0.0   \n",
       "144442         0.0  ...     0.0       0.0        0.0               0.0   \n",
       "1876309        0.0  ...     0.0       0.0        0.0               0.0   \n",
       "1819482        0.0  ...     0.0       0.0        0.0               0.0   \n",
       "482013         0.0  ...     0.0       0.0        0.0               0.0   \n",
       "\n",
       "         Web Publishing  item_id               user_id  review_sum  \\\n",
       "455071              0.0   219640              plumbers         4.0   \n",
       "144442              0.0    16450                Lad123         2.0   \n",
       "1876309             0.0      620     76561198055819674         5.0   \n",
       "1819482             0.0    50620  Thisbananaistastyfam         6.0   \n",
       "482013              0.0   220780     76561198079765149         1.0   \n",
       "\n",
       "                          item_name  playtime_forever  \n",
       "455071   Chivalry: Medieval Warfare              56.0  \n",
       "144442   F.E.A.R. 2: Project Origin               0.0  \n",
       "1876309                    Portal 2             184.0  \n",
       "1819482                  Darksiders               0.0  \n",
       "482013             Thomas Was Alone             177.0  \n",
       "\n",
       "[5 rows x 28 columns]"
      ]
     },
     "execution_count": 130,
     "metadata": {},
     "output_type": "execute_result"
    }
   ],
   "source": [
    "df.sample(5)"
   ]
  },
  {
   "cell_type": "code",
   "execution_count": 128,
   "metadata": {},
   "outputs": [],
   "source": [
    "genre_x = \"Action\""
   ]
  },
  {
   "cell_type": "code",
   "execution_count": 129,
   "metadata": {},
   "outputs": [],
   "source": [
    "dfg = df[genre_x]"
   ]
  },
  {
   "cell_type": "code",
   "execution_count": 131,
   "metadata": {},
   "outputs": [],
   "source": [
    "horas_j = dfm.groupby('user_id')['playtime_forever'].sum()"
   ]
  },
  {
   "cell_type": "code",
   "execution_count": 133,
   "metadata": {},
   "outputs": [],
   "source": [
    "user_horas_j = horas_j.idxmax()"
   ]
  },
  {
   "cell_type": "code",
   "execution_count": 165,
   "metadata": {},
   "outputs": [],
   "source": [
    "resp = {f\"Usuario con más horas jugadas para {genre_x}\": user_horas_j, \"Total horas jugadas\": float(horas_j.values[0])}"
   ]
  },
  {
   "cell_type": "code",
   "execution_count": 166,
   "metadata": {},
   "outputs": [
    {
     "name": "stdout",
     "output_type": "stream",
     "text": [
      "{'Usuario con más horas jugadas para Action': '-Mad-', 'Total horas jugadas': 175458.0}\n"
     ]
    }
   ],
   "source": [
    "print(resp)\n"
   ]
  },
  {
   "cell_type": "code",
   "execution_count": null,
   "metadata": {},
   "outputs": [],
   "source": [
    "genre_x = \"Action\"\n",
    "\n",
    "dfg = df[genre_x]\n",
    "\n",
    "horas_j = dfm.groupby('user_id')['playtime_forever'].sum()\n",
    "user_horas_j = horas_j.idxmax()\n",
    "\n",
    "resp = {f\"Usuario con más horas jugadas para {genre_x}\": user_horas_j, \"Total horas jugadas\": float(horas_j.values[0])}"
   ]
  }
 ],
 "metadata": {
  "kernelspec": {
   "display_name": ".venv",
   "language": "python",
   "name": "python3"
  },
  "language_info": {
   "codemirror_mode": {
    "name": "ipython",
    "version": 3
   },
   "file_extension": ".py",
   "mimetype": "text/x-python",
   "name": "python",
   "nbconvert_exporter": "python",
   "pygments_lexer": "ipython3",
   "version": "3.11.9"
  }
 },
 "nbformat": 4,
 "nbformat_minor": 2
}
