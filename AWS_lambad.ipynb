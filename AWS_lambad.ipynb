{
 "cells": [
  {
   "cell_type": "code",
   "execution_count": 1,
   "metadata": {},
   "outputs": [],
   "source": [
    "import pandas as pd\n",
    "import json"
   ]
  },
  {
   "cell_type": "code",
   "execution_count": 2,
   "metadata": {},
   "outputs": [],
   "source": [
    "dev_db = r'Dataset\\Procesado\\dev_db.parquet'"
   ]
  },
  {
   "cell_type": "code",
   "execution_count": 3,
   "metadata": {},
   "outputs": [
    {
     "data": {
      "text/html": [
       "<div>\n",
       "<style scoped>\n",
       "    .dataframe tbody tr th:only-of-type {\n",
       "        vertical-align: middle;\n",
       "    }\n",
       "\n",
       "    .dataframe tbody tr th {\n",
       "        vertical-align: top;\n",
       "    }\n",
       "\n",
       "    .dataframe thead th {\n",
       "        text-align: right;\n",
       "    }\n",
       "</style>\n",
       "<table border=\"1\" class=\"dataframe\">\n",
       "  <thead>\n",
       "    <tr style=\"text-align: right;\">\n",
       "      <th></th>\n",
       "      <th>item_id</th>\n",
       "      <th>malo</th>\n",
       "      <th>neutral</th>\n",
       "      <th>positivo</th>\n",
       "      <th>developer</th>\n",
       "      <th>release_date</th>\n",
       "      <th>price</th>\n",
       "    </tr>\n",
       "  </thead>\n",
       "  <tbody>\n",
       "    <tr>\n",
       "      <th>1115</th>\n",
       "      <td>230410</td>\n",
       "      <td>0</td>\n",
       "      <td>0</td>\n",
       "      <td>1</td>\n",
       "      <td>Digital Extremes</td>\n",
       "      <td>2013-03-25</td>\n",
       "      <td>0.00</td>\n",
       "    </tr>\n",
       "    <tr>\n",
       "      <th>14245</th>\n",
       "      <td>236870</td>\n",
       "      <td>0</td>\n",
       "      <td>0</td>\n",
       "      <td>1</td>\n",
       "      <td>IO Interactive A/S,Feral Interactive (Linux),F...</td>\n",
       "      <td>2016-03-11</td>\n",
       "      <td>0.00</td>\n",
       "    </tr>\n",
       "    <tr>\n",
       "      <th>41529</th>\n",
       "      <td>319630</td>\n",
       "      <td>0</td>\n",
       "      <td>0</td>\n",
       "      <td>1</td>\n",
       "      <td>DONTNOD Entertainment,Feral Interactive (Mac),...</td>\n",
       "      <td>2015-01-29</td>\n",
       "      <td>0.00</td>\n",
       "    </tr>\n",
       "    <tr>\n",
       "      <th>38533</th>\n",
       "      <td>207140</td>\n",
       "      <td>0</td>\n",
       "      <td>0</td>\n",
       "      <td>1</td>\n",
       "      <td>DoubleDutch Games</td>\n",
       "      <td>2016-04-19</td>\n",
       "      <td>14.99</td>\n",
       "    </tr>\n",
       "    <tr>\n",
       "      <th>19844</th>\n",
       "      <td>214950</td>\n",
       "      <td>0</td>\n",
       "      <td>0</td>\n",
       "      <td>1</td>\n",
       "      <td>Creative Assembly</td>\n",
       "      <td>2013-09-02</td>\n",
       "      <td>59.95</td>\n",
       "    </tr>\n",
       "  </tbody>\n",
       "</table>\n",
       "</div>"
      ],
      "text/plain": [
       "       item_id  malo  neutral  positivo  \\\n",
       "1115    230410     0        0         1   \n",
       "14245   236870     0        0         1   \n",
       "41529   319630     0        0         1   \n",
       "38533   207140     0        0         1   \n",
       "19844   214950     0        0         1   \n",
       "\n",
       "                                               developer release_date  price  \n",
       "1115                                    Digital Extremes   2013-03-25   0.00  \n",
       "14245  IO Interactive A/S,Feral Interactive (Linux),F...   2016-03-11   0.00  \n",
       "41529  DONTNOD Entertainment,Feral Interactive (Mac),...   2015-01-29   0.00  \n",
       "38533                                  DoubleDutch Games   2016-04-19  14.99  \n",
       "19844                                  Creative Assembly   2013-09-02  59.95  "
      ]
     },
     "execution_count": 3,
     "metadata": {},
     "output_type": "execute_result"
    }
   ],
   "source": [
    "df = pd.read_parquet(dev_db)\n",
    "df.sample(5)"
   ]
  },
  {
   "cell_type": "markdown",
   "metadata": {},
   "source": [
    "## <div style=\"color: lightgreen; text-align: center;\"> ...  def developer  ... </div>"
   ]
  },
  {
   "cell_type": "code",
   "execution_count": 17,
   "metadata": {},
   "outputs": [],
   "source": [
    "aggregation_functions = {\n",
    "    'item_id': 'sum',  # Suma de la columna 'item_id' por año\n",
    "    'price': lambda x: (x == 0).sum()  # Conteo de filas donde 'price' es igual a 0 por año\n",
    "}"
   ]
  },
  {
   "cell_type": "code",
   "execution_count": 18,
   "metadata": {},
   "outputs": [
    {
     "name": "stdout",
     "output_type": "stream",
     "text": [
      "                 item_id  price\n",
      "release_date                   \n",
      "1989              327950      0\n",
      "1990               69060      0\n",
      "1991              358260      0\n",
      "1992             1000510      0\n",
      "1993              601360      0\n",
      "1994             2011620      0\n",
      "1995              631220      0\n",
      "1996             1915810      0\n",
      "1997             5525240      0\n",
      "1998             4066950      0\n",
      "1999            11282610     29\n",
      "2000              420490      0\n",
      "2001             2643970      0\n",
      "2002             1970420      0\n",
      "2003            28473190     18\n",
      "2004             4347200      0\n",
      "2005             9695220      0\n",
      "2006            37270850     89\n",
      "2007            18413007   3805\n",
      "2008            12956240     15\n",
      "2009            28213514     32\n",
      "2010            70917042    187\n",
      "2011           287267690    550\n",
      "2012           929093198   1391\n",
      "2013          1532793964   1064\n",
      "2014          1622193042   1424\n",
      "2015          2029546537   1827\n",
      "2016           941960799    602\n",
      "2017           646045970   1578\n"
     ]
    }
   ],
   "source": [
    "resultado_por_anio =df.groupby(df['release_date'].dt.year).agg(aggregation_functions)\n",
    "print(resultado_por_anio)\n"
   ]
  },
  {
   "cell_type": "code",
   "execution_count": 22,
   "metadata": {},
   "outputs": [],
   "source": [
    "developer = resultado_por_anio.to_json()"
   ]
  },
  {
   "cell_type": "code",
   "execution_count": 23,
   "metadata": {},
   "outputs": [
    {
     "data": {
      "text/plain": [
       "'{\"numero de items\":{\"1989\":327950,\"1990\":69060,\"1991\":358260,\"1992\":1000510,\"1993\":601360,\"1994\":2011620,\"1995\":631220,\"1996\":1915810,\"1997\":5525240,\"1998\":4066950,\"1999\":11282610,\"2000\":420490,\"2001\":2643970,\"2002\":1970420,\"2003\":28473190,\"2004\":4347200,\"2005\":9695220,\"2006\":37270850,\"2007\":18413007,\"2008\":12956240,\"2009\":28213514,\"2010\":70917042,\"2011\":287267690,\"2012\":929093198,\"2013\":1532793964,\"2014\":1622193042,\"2015\":2029546537,\"2016\":941960799,\"2017\":646045970},\"Contenido Free\":{\"1989\":0,\"1990\":0,\"1991\":0,\"1992\":0,\"1993\":0,\"1994\":0,\"1995\":0,\"1996\":0,\"1997\":0,\"1998\":0,\"1999\":29,\"2000\":0,\"2001\":0,\"2002\":0,\"2003\":18,\"2004\":0,\"2005\":0,\"2006\":89,\"2007\":3805,\"2008\":15,\"2009\":32,\"2010\":187,\"2011\":550,\"2012\":1391,\"2013\":1064,\"2014\":1424,\"2015\":1827,\"2016\":602,\"2017\":1578}}'"
      ]
     },
     "execution_count": 23,
     "metadata": {},
     "output_type": "execute_result"
    }
   ],
   "source": []
  },
  {
   "cell_type": "code",
   "execution_count": 21,
   "metadata": {},
   "outputs": [
    {
     "data": {
      "text/plain": [
       "pandas.core.frame.DataFrame"
      ]
     },
     "execution_count": 21,
     "metadata": {},
     "output_type": "execute_result"
    }
   ],
   "source": [
    "type(resultado_por_anio)"
   ]
  },
  {
   "cell_type": "code",
   "execution_count": 19,
   "metadata": {},
   "outputs": [],
   "source": [
    "resultado_por_anio.columns = ['numero de items', 'Contenido Free']"
   ]
  },
  {
   "cell_type": "code",
   "execution_count": 20,
   "metadata": {},
   "outputs": [
    {
     "name": "stdout",
     "output_type": "stream",
     "text": [
      "              numero de items  Contenido Free\n",
      "release_date                                 \n",
      "1989                   327950               0\n",
      "1990                    69060               0\n",
      "1991                   358260               0\n",
      "1992                  1000510               0\n",
      "1993                   601360               0\n",
      "1994                  2011620               0\n",
      "1995                   631220               0\n",
      "1996                  1915810               0\n",
      "1997                  5525240               0\n",
      "1998                  4066950               0\n",
      "1999                 11282610              29\n",
      "2000                   420490               0\n",
      "2001                  2643970               0\n",
      "2002                  1970420               0\n",
      "2003                 28473190              18\n",
      "2004                  4347200               0\n",
      "2005                  9695220               0\n",
      "2006                 37270850              89\n",
      "2007                 18413007            3805\n",
      "2008                 12956240              15\n",
      "2009                 28213514              32\n",
      "2010                 70917042             187\n",
      "2011                287267690             550\n",
      "2012                929093198            1391\n",
      "2013               1532793964            1064\n",
      "2014               1622193042            1424\n",
      "2015               2029546537            1827\n",
      "2016                941960799             602\n",
      "2017                646045970            1578\n"
     ]
    }
   ],
   "source": [
    "print(resultado_por_anio)"
   ]
  },
  {
   "cell_type": "code",
   "execution_count": 13,
   "metadata": {},
   "outputs": [],
   "source": [
    "#Cantidad de items\n",
    "c_items = df[df['developer'] == 'Valve'].groupby(df['release_date'].dt.year)['item_id'].sum()"
   ]
  },
  {
   "cell_type": "code",
   "execution_count": 16,
   "metadata": {},
   "outputs": [
    {
     "data": {
      "text/plain": [
       "pandas.core.series.Series"
      ]
     },
     "execution_count": 16,
     "metadata": {},
     "output_type": "execute_result"
    }
   ],
   "source": [
    "type(c_items)"
   ]
  },
  {
   "cell_type": "code",
   "execution_count": 6,
   "metadata": {},
   "outputs": [
    {
     "data": {
      "text/plain": [
       "developer\n",
       "Valve                      9557\n",
       "Facepunch Studios          2550\n",
       "Bohemia Interactive        1161\n",
       "Smartly Dressed Games      1066\n",
       "Re-Logic                    741\n",
       "                           ... \n",
       "Alawar Entertainment          1\n",
       "Bacon Wrapped Games           1\n",
       "Qwiboo Ltd                    1\n",
       "Cliffhanger Productions       1\n",
       "Aeon Dream Studios            1\n",
       "Name: count, Length: 2030, dtype: int64"
      ]
     },
     "execution_count": 6,
     "metadata": {},
     "output_type": "execute_result"
    }
   ],
   "source": [
    "df['developer'].value_counts()"
   ]
  },
  {
   "cell_type": "markdown",
   "metadata": {},
   "source": [
    "## <div style=\"color: lightgreen; text-align: center;\"> .  def best_developer_year  . </div>\n"
   ]
  }
 ],
 "metadata": {
  "kernelspec": {
   "display_name": ".venv",
   "language": "python",
   "name": "python3"
  },
  "language_info": {
   "codemirror_mode": {
    "name": "ipython",
    "version": 3
   },
   "file_extension": ".py",
   "mimetype": "text/x-python",
   "name": "python",
   "nbconvert_exporter": "python",
   "pygments_lexer": "ipython3",
   "version": "3.11.9"
  }
 },
 "nbformat": 4,
 "nbformat_minor": 2
}
