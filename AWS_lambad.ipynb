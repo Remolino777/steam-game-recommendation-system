{
 "cells": [
  {
   "cell_type": "code",
   "execution_count": 2,
   "metadata": {},
   "outputs": [],
   "source": [
    "import pandas as pd\n",
    "import json"
   ]
  },
  {
   "cell_type": "code",
   "execution_count": 3,
   "metadata": {},
   "outputs": [],
   "source": [
    "dev_db = r'Dataset\\Procesado\\dev_db.parquet'"
   ]
  },
  {
   "cell_type": "code",
   "execution_count": 108,
   "metadata": {},
   "outputs": [
    {
     "data": {
      "text/html": [
       "<div>\n",
       "<style scoped>\n",
       "    .dataframe tbody tr th:only-of-type {\n",
       "        vertical-align: middle;\n",
       "    }\n",
       "\n",
       "    .dataframe tbody tr th {\n",
       "        vertical-align: top;\n",
       "    }\n",
       "\n",
       "    .dataframe thead th {\n",
       "        text-align: right;\n",
       "    }\n",
       "</style>\n",
       "<table border=\"1\" class=\"dataframe\">\n",
       "  <thead>\n",
       "    <tr style=\"text-align: right;\">\n",
       "      <th></th>\n",
       "      <th>item_id</th>\n",
       "      <th>malo</th>\n",
       "      <th>neutral</th>\n",
       "      <th>positivo</th>\n",
       "      <th>developer</th>\n",
       "      <th>release_date</th>\n",
       "      <th>price</th>\n",
       "    </tr>\n",
       "  </thead>\n",
       "  <tbody>\n",
       "    <tr>\n",
       "      <th>18014</th>\n",
       "      <td>240</td>\n",
       "      <td>0</td>\n",
       "      <td>0</td>\n",
       "      <td>1</td>\n",
       "      <td>Valve</td>\n",
       "      <td>2004-11-01</td>\n",
       "      <td>19.99</td>\n",
       "    </tr>\n",
       "    <tr>\n",
       "      <th>6218</th>\n",
       "      <td>333980</td>\n",
       "      <td>0</td>\n",
       "      <td>0</td>\n",
       "      <td>1</td>\n",
       "      <td>ACQUIRE Corp.</td>\n",
       "      <td>2015-05-26</td>\n",
       "      <td>29.99</td>\n",
       "    </tr>\n",
       "    <tr>\n",
       "      <th>23968</th>\n",
       "      <td>200210</td>\n",
       "      <td>0</td>\n",
       "      <td>0</td>\n",
       "      <td>1</td>\n",
       "      <td>Wild Shadow Studios</td>\n",
       "      <td>2012-02-20</td>\n",
       "      <td>0.00</td>\n",
       "    </tr>\n",
       "  </tbody>\n",
       "</table>\n",
       "</div>"
      ],
      "text/plain": [
       "       item_id  malo  neutral  positivo            developer release_date  \\\n",
       "18014      240     0        0         1                Valve   2004-11-01   \n",
       "6218    333980     0        0         1        ACQUIRE Corp.   2015-05-26   \n",
       "23968   200210     0        0         1  Wild Shadow Studios   2012-02-20   \n",
       "\n",
       "       price  \n",
       "18014  19.99  \n",
       "6218   29.99  \n",
       "23968   0.00  "
      ]
     },
     "execution_count": 108,
     "metadata": {},
     "output_type": "execute_result"
    }
   ],
   "source": [
    "df = pd.read_parquet(dev_db)\n",
    "df.sample(3)"
   ]
  },
  {
   "cell_type": "code",
   "execution_count": 62,
   "metadata": {},
   "outputs": [
    {
     "name": "stdout",
     "output_type": "stream",
     "text": [
      "<class 'pandas.core.frame.DataFrame'>\n",
      "RangeIndex: 49057 entries, 0 to 49056\n",
      "Data columns (total 7 columns):\n",
      " #   Column        Non-Null Count  Dtype         \n",
      "---  ------        --------------  -----         \n",
      " 0   item_id       49057 non-null  int32         \n",
      " 1   malo          49057 non-null  int64         \n",
      " 2   neutral       49057 non-null  int64         \n",
      " 3   positivo      49057 non-null  int64         \n",
      " 4   developer     49057 non-null  object        \n",
      " 5   release_date  49057 non-null  datetime64[ns]\n",
      " 6   price         49057 non-null  float64       \n",
      "dtypes: datetime64[ns](1), float64(1), int32(1), int64(3), object(1)\n",
      "memory usage: 2.4+ MB\n"
     ]
    }
   ],
   "source": [
    "df.info()"
   ]
  },
  {
   "cell_type": "markdown",
   "metadata": {},
   "source": [
    "## <div style=\"color: lightgreen; text-align: center;\"> .  def developer  . </div>"
   ]
  },
  {
   "cell_type": "code",
   "execution_count": 25,
   "metadata": {},
   "outputs": [],
   "source": [
    "df1 = df.copy()"
   ]
  },
  {
   "cell_type": "code",
   "execution_count": 26,
   "metadata": {},
   "outputs": [
    {
     "data": {
      "text/html": [
       "<div>\n",
       "<style scoped>\n",
       "    .dataframe tbody tr th:only-of-type {\n",
       "        vertical-align: middle;\n",
       "    }\n",
       "\n",
       "    .dataframe tbody tr th {\n",
       "        vertical-align: top;\n",
       "    }\n",
       "\n",
       "    .dataframe thead th {\n",
       "        text-align: right;\n",
       "    }\n",
       "</style>\n",
       "<table border=\"1\" class=\"dataframe\">\n",
       "  <thead>\n",
       "    <tr style=\"text-align: right;\">\n",
       "      <th></th>\n",
       "      <th>item_id</th>\n",
       "      <th>malo</th>\n",
       "      <th>neutral</th>\n",
       "      <th>positivo</th>\n",
       "      <th>developer</th>\n",
       "      <th>release_date</th>\n",
       "      <th>price</th>\n",
       "    </tr>\n",
       "  </thead>\n",
       "  <tbody>\n",
       "    <tr>\n",
       "      <th>21034</th>\n",
       "      <td>394360</td>\n",
       "      <td>0</td>\n",
       "      <td>0</td>\n",
       "      <td>1</td>\n",
       "      <td>Paradox Development Studio</td>\n",
       "      <td>2016-06-06</td>\n",
       "      <td>39.99</td>\n",
       "    </tr>\n",
       "    <tr>\n",
       "      <th>45654</th>\n",
       "      <td>322170</td>\n",
       "      <td>0</td>\n",
       "      <td>1</td>\n",
       "      <td>0</td>\n",
       "      <td>RobTop Games</td>\n",
       "      <td>2014-12-22</td>\n",
       "      <td>3.99</td>\n",
       "    </tr>\n",
       "    <tr>\n",
       "      <th>37084</th>\n",
       "      <td>224260</td>\n",
       "      <td>1</td>\n",
       "      <td>0</td>\n",
       "      <td>0</td>\n",
       "      <td>No More Room in Hell Team</td>\n",
       "      <td>2011-10-31</td>\n",
       "      <td>0.00</td>\n",
       "    </tr>\n",
       "    <tr>\n",
       "      <th>28115</th>\n",
       "      <td>440</td>\n",
       "      <td>0</td>\n",
       "      <td>0</td>\n",
       "      <td>1</td>\n",
       "      <td>Valve</td>\n",
       "      <td>2007-10-10</td>\n",
       "      <td>0.00</td>\n",
       "    </tr>\n",
       "    <tr>\n",
       "      <th>14995</th>\n",
       "      <td>369400</td>\n",
       "      <td>0</td>\n",
       "      <td>0</td>\n",
       "      <td>1</td>\n",
       "      <td>Eforb</td>\n",
       "      <td>2015-08-27</td>\n",
       "      <td>0.00</td>\n",
       "    </tr>\n",
       "  </tbody>\n",
       "</table>\n",
       "</div>"
      ],
      "text/plain": [
       "       item_id  malo  neutral  positivo                   developer  \\\n",
       "21034   394360     0        0         1  Paradox Development Studio   \n",
       "45654   322170     0        1         0                RobTop Games   \n",
       "37084   224260     1        0         0   No More Room in Hell Team   \n",
       "28115      440     0        0         1                       Valve   \n",
       "14995   369400     0        0         1                       Eforb   \n",
       "\n",
       "      release_date  price  \n",
       "21034   2016-06-06  39.99  \n",
       "45654   2014-12-22   3.99  \n",
       "37084   2011-10-31   0.00  \n",
       "28115   2007-10-10   0.00  \n",
       "14995   2015-08-27   0.00  "
      ]
     },
     "execution_count": 26,
     "metadata": {},
     "output_type": "execute_result"
    }
   ],
   "source": [
    "df1.sample(5)"
   ]
  },
  {
   "cell_type": "code",
   "execution_count": 28,
   "metadata": {},
   "outputs": [],
   "source": [
    "df2 = df1[df1['developer'] == 'Valve']"
   ]
  },
  {
   "cell_type": "code",
   "execution_count": 41,
   "metadata": {},
   "outputs": [],
   "source": [
    "list_x = sorted(df2['release_date'].dt.year.unique(), reverse=True)"
   ]
  },
  {
   "cell_type": "code",
   "execution_count": 42,
   "metadata": {},
   "outputs": [
    {
     "name": "stdout",
     "output_type": "stream",
     "text": [
      "[2012, 2011, 2010, 2009, 2008, 2007, 2006, 2004, 2003, 2001, 2000, 1999, 1998]\n"
     ]
    }
   ],
   "source": [
    "print(list_x)"
   ]
  },
  {
   "cell_type": "code",
   "execution_count": 51,
   "metadata": {},
   "outputs": [],
   "source": [
    "lista_final =[]"
   ]
  },
  {
   "cell_type": "code",
   "execution_count": 52,
   "metadata": {},
   "outputs": [],
   "source": [
    "for year in list_x:\n",
    "    \n",
    "    df_year = df2[df2['release_date'].dt.year == year]\n",
    "    c_items = df_year['item_id'].value_counts().sum()\n",
    "    free = df_year[df_year['price'] == 0].value_counts().sum()\n",
    "    \n",
    "    m = {year:[{'Cantidad de items':c_items},{'Contenido Free': free }]}\n",
    "    lista_final.append(m)\n",
    "    "
   ]
  },
  {
   "cell_type": "code",
   "execution_count": 53,
   "metadata": {},
   "outputs": [
    {
     "name": "stdout",
     "output_type": "stream",
     "text": [
      "[{2012: [{'Cantidad de items': 3759}, {'Contenido Free': 0}]}, {2011: [{'Cantidad de items': 374}, {'Contenido Free': 0}]}, {2010: [{'Cantidad de items': 126}, {'Contenido Free': 93}]}, {2009: [{'Cantidad de items': 752}, {'Contenido Free': 0}]}, {2008: [{'Cantidad de items': 33}, {'Contenido Free': 0}]}, {2007: [{'Cantidad de items': 3858}, {'Contenido Free': 3736}]}, {2006: [{'Cantidad de items': 18}, {'Contenido Free': 0}]}, {2004: [{'Cantidad de items': 486}, {'Contenido Free': 0}]}, {2003: [{'Cantidad de items': 4}, {'Contenido Free': 0}]}, {2001: [{'Cantidad de items': 1}, {'Contenido Free': 0}]}, {2000: [{'Cantidad de items': 67}, {'Contenido Free': 0}]}, {1999: [{'Cantidad de items': 17}, {'Contenido Free': 0}]}, {1998: [{'Cantidad de items': 62}, {'Contenido Free': 0}]}]\n"
     ]
    }
   ],
   "source": [
    "print(lista_final)"
   ]
  },
  {
   "cell_type": "markdown",
   "metadata": {},
   "source": [
    "## <div style=\"color: lightgreen; text-align: center;\"> .  def best_developer_year  . </div>\n"
   ]
  },
  {
   "cell_type": "code",
   "execution_count": 6,
   "metadata": {},
   "outputs": [
    {
     "data": {
      "text/html": [
       "<div>\n",
       "<style scoped>\n",
       "    .dataframe tbody tr th:only-of-type {\n",
       "        vertical-align: middle;\n",
       "    }\n",
       "\n",
       "    .dataframe tbody tr th {\n",
       "        vertical-align: top;\n",
       "    }\n",
       "\n",
       "    .dataframe thead th {\n",
       "        text-align: right;\n",
       "    }\n",
       "</style>\n",
       "<table border=\"1\" class=\"dataframe\">\n",
       "  <thead>\n",
       "    <tr style=\"text-align: right;\">\n",
       "      <th></th>\n",
       "      <th>item_id</th>\n",
       "      <th>malo</th>\n",
       "      <th>neutral</th>\n",
       "      <th>positivo</th>\n",
       "      <th>developer</th>\n",
       "      <th>release_date</th>\n",
       "      <th>price</th>\n",
       "    </tr>\n",
       "  </thead>\n",
       "  <tbody>\n",
       "    <tr>\n",
       "      <th>21306</th>\n",
       "      <td>377160</td>\n",
       "      <td>0</td>\n",
       "      <td>0</td>\n",
       "      <td>1</td>\n",
       "      <td>Bethesda Game Studios</td>\n",
       "      <td>2015-11-09</td>\n",
       "      <td>29.99</td>\n",
       "    </tr>\n",
       "    <tr>\n",
       "      <th>15848</th>\n",
       "      <td>440</td>\n",
       "      <td>0</td>\n",
       "      <td>0</td>\n",
       "      <td>1</td>\n",
       "      <td>Valve</td>\n",
       "      <td>2007-10-10</td>\n",
       "      <td>0.00</td>\n",
       "    </tr>\n",
       "    <tr>\n",
       "      <th>35650</th>\n",
       "      <td>49520</td>\n",
       "      <td>0</td>\n",
       "      <td>1</td>\n",
       "      <td>0</td>\n",
       "      <td>Gearbox Software,Aspyr (Mac &amp;amp; Linux)</td>\n",
       "      <td>2012-09-17</td>\n",
       "      <td>19.99</td>\n",
       "    </tr>\n",
       "    <tr>\n",
       "      <th>2993</th>\n",
       "      <td>205100</td>\n",
       "      <td>1</td>\n",
       "      <td>0</td>\n",
       "      <td>0</td>\n",
       "      <td>Arkane Studios</td>\n",
       "      <td>2012-10-08</td>\n",
       "      <td>9.99</td>\n",
       "    </tr>\n",
       "    <tr>\n",
       "      <th>20527</th>\n",
       "      <td>4000</td>\n",
       "      <td>0</td>\n",
       "      <td>0</td>\n",
       "      <td>1</td>\n",
       "      <td>Facepunch Studios</td>\n",
       "      <td>2006-11-29</td>\n",
       "      <td>9.99</td>\n",
       "    </tr>\n",
       "  </tbody>\n",
       "</table>\n",
       "</div>"
      ],
      "text/plain": [
       "       item_id  malo  neutral  positivo  \\\n",
       "21306   377160     0        0         1   \n",
       "15848      440     0        0         1   \n",
       "35650    49520     0        1         0   \n",
       "2993    205100     1        0         0   \n",
       "20527     4000     0        0         1   \n",
       "\n",
       "                                      developer release_date  price  \n",
       "21306                     Bethesda Game Studios   2015-11-09  29.99  \n",
       "15848                                     Valve   2007-10-10   0.00  \n",
       "35650  Gearbox Software,Aspyr (Mac &amp; Linux)   2012-09-17  19.99  \n",
       "2993                             Arkane Studios   2012-10-08   9.99  \n",
       "20527                         Facepunch Studios   2006-11-29   9.99  "
      ]
     },
     "execution_count": 6,
     "metadata": {},
     "output_type": "execute_result"
    }
   ],
   "source": [
    "df.sample(5)"
   ]
  },
  {
   "cell_type": "code",
   "execution_count": 7,
   "metadata": {},
   "outputs": [],
   "source": [
    "b_dev = df[df['release_date'].dt.year == 2014]"
   ]
  },
  {
   "cell_type": "code",
   "execution_count": 8,
   "metadata": {},
   "outputs": [],
   "source": [
    "dev_reviews = b_dev.groupby('developer')['positivo'].sum()"
   ]
  },
  {
   "cell_type": "code",
   "execution_count": 14,
   "metadata": {},
   "outputs": [],
   "source": [
    "dev_reviews_s = dev_reviews.sort_values(ascending=False)"
   ]
  },
  {
   "cell_type": "code",
   "execution_count": 44,
   "metadata": {},
   "outputs": [],
   "source": [
    "pp = dev_reviews_s.to_dict()\n",
    "ppp = list(pp.keys())"
   ]
  },
  {
   "cell_type": "code",
   "execution_count": 45,
   "metadata": {},
   "outputs": [
    {
     "data": {
      "text/plain": [
       "'Coffee Stain Studios'"
      ]
     },
     "execution_count": 45,
     "metadata": {},
     "output_type": "execute_result"
    }
   ],
   "source": [
    "ppp[1]"
   ]
  },
  {
   "cell_type": "code",
   "execution_count": 31,
   "metadata": {},
   "outputs": [],
   "source": [
    "dev_x = list(dev_reviews_s.index)"
   ]
  },
  {
   "cell_type": "code",
   "execution_count": 32,
   "metadata": {},
   "outputs": [
    {
     "name": "stdout",
     "output_type": "stream",
     "text": [
      "<class 'list'>\n"
     ]
    }
   ],
   "source": [
    "print(type(dev_x))"
   ]
  },
  {
   "cell_type": "code",
   "execution_count": 24,
   "metadata": {},
   "outputs": [],
   "source": [
    "dev_top3 = list(dev_reviews_s.head(3).index)"
   ]
  },
  {
   "cell_type": "code",
   "execution_count": 25,
   "metadata": {},
   "outputs": [
    {
     "name": "stdout",
     "output_type": "stream",
     "text": [
      "<class 'list'>\n"
     ]
    }
   ],
   "source": [
    "print(type(dev_top3))"
   ]
  },
  {
   "cell_type": "code",
   "execution_count": 22,
   "metadata": {},
   "outputs": [
    {
     "data": {
      "text/plain": [
       "'Edge of Reality'"
      ]
     },
     "execution_count": 22,
     "metadata": {},
     "output_type": "execute_result"
    }
   ],
   "source": [
    "dev_top3[0]"
   ]
  },
  {
   "cell_type": "code",
   "execution_count": 12,
   "metadata": {},
   "outputs": [],
   "source": [
    "top_devs = list(dev_reviews.nlargest(3).keys())\n"
   ]
  },
  {
   "cell_type": "code",
   "execution_count": 13,
   "metadata": {},
   "outputs": [
    {
     "name": "stdout",
     "output_type": "stream",
     "text": [
      "Coffee Stain Studios\n"
     ]
    }
   ],
   "source": [
    "print(top_devs[1])"
   ]
  },
  {
   "cell_type": "code",
   "execution_count": 10,
   "metadata": {},
   "outputs": [
    {
     "name": "stdout",
     "output_type": "stream",
     "text": [
      "['Edge of Reality', 'Coffee Stain Studios', 'New World Interactive']\n"
     ]
    }
   ],
   "source": [
    "print(top_devs)"
   ]
  },
  {
   "cell_type": "code",
   "execution_count": null,
   "metadata": {},
   "outputs": [],
   "source": [
    "top_dev_json = top_devs.to_json()"
   ]
  },
  {
   "cell_type": "code",
   "execution_count": 84,
   "metadata": {},
   "outputs": [
    {
     "name": "stdout",
     "output_type": "stream",
     "text": [
      "{\"Smartly Dressed Games\":632,\"Freejam\":217,\"Studio Wildcard,Instinct Games,Efecto Studios,Virtual Basement LLC\":188}\n"
     ]
    }
   ],
   "source": [
    "print(top_dev_json)"
   ]
  },
  {
   "cell_type": "markdown",
   "metadata": {},
   "source": [
    "## <div style=\"color: lightgreen; text-align: center;\"> .  def developer_reviews_analysis  . </div>"
   ]
  },
  {
   "cell_type": "code",
   "execution_count": 90,
   "metadata": {},
   "outputs": [],
   "source": [
    "dev_d = df[df['developer'] == 'Valve']"
   ]
  },
  {
   "cell_type": "code",
   "execution_count": 91,
   "metadata": {},
   "outputs": [],
   "source": [
    "dev_r = dev_d.groupby('developer')[['positivo', 'malo']].sum()"
   ]
  },
  {
   "cell_type": "code",
   "execution_count": 92,
   "metadata": {},
   "outputs": [],
   "source": [
    "dev_j = dev_r.to_json()"
   ]
  },
  {
   "cell_type": "code",
   "execution_count": null,
   "metadata": {},
   "outputs": [],
   "source": [
    "result = "
   ]
  },
  {
   "cell_type": "code",
   "execution_count": 93,
   "metadata": {},
   "outputs": [
    {
     "name": "stdout",
     "output_type": "stream",
     "text": [
      "{\"positivo\":{\"Valve\":6056},\"malo\":{\"Valve\":1098}}\n"
     ]
    }
   ],
   "source": [
    "print(dev_j)"
   ]
  },
  {
   "cell_type": "code",
   "execution_count": 95,
   "metadata": {},
   "outputs": [
    {
     "name": "stdout",
     "output_type": "stream",
     "text": [
      "{'Valve': {'Negativo': 1098, 'Positivo': 6056}}\n"
     ]
    }
   ],
   "source": [
    "dev = 'Valve' # Variable event de lambda\n",
    "d_data = df[df['developer'] == dev]\n",
    "\n",
    "neg_r = d_data['malo'].sum()\n",
    "pos_r = d_data['positivo'].sum()\n",
    "\n",
    "result = {dev:{'Negativo': neg_r, 'Positivo': pos_r}}\n",
    "\n",
    "\n",
    "result_df = pd.DataFrame(result).T  # Convertir el diccionario en un DataFrame transpuesto\n",
    "result_json = result_df.to_json()\n",
    "\n",
    "print(result)"
   ]
  },
  {
   "cell_type": "markdown",
   "metadata": {},
   "source": [
    "## <div style=\"color: lightgreen; text-align: center;\"> .  def user_data  . </div>"
   ]
  },
  {
   "cell_type": "code",
   "execution_count": 147,
   "metadata": {},
   "outputs": [],
   "source": [
    "user_db = r'Dataset\\Procesado\\user_db.parquet'"
   ]
  },
  {
   "cell_type": "code",
   "execution_count": 148,
   "metadata": {},
   "outputs": [
    {
     "data": {
      "text/html": [
       "<div>\n",
       "<style scoped>\n",
       "    .dataframe tbody tr th:only-of-type {\n",
       "        vertical-align: middle;\n",
       "    }\n",
       "\n",
       "    .dataframe tbody tr th {\n",
       "        vertical-align: top;\n",
       "    }\n",
       "\n",
       "    .dataframe thead th {\n",
       "        text-align: right;\n",
       "    }\n",
       "</style>\n",
       "<table border=\"1\" class=\"dataframe\">\n",
       "  <thead>\n",
       "    <tr style=\"text-align: right;\">\n",
       "      <th></th>\n",
       "      <th>price</th>\n",
       "      <th>Accounting</th>\n",
       "      <th>Action</th>\n",
       "      <th>Adventure</th>\n",
       "      <th>Animation &amp;amp; Modeling</th>\n",
       "      <th>Audio Production</th>\n",
       "      <th>Casual</th>\n",
       "      <th>Design &amp;amp; Illustration</th>\n",
       "      <th>Early Access</th>\n",
       "      <th>Education</th>\n",
       "      <th>...</th>\n",
       "      <th>Sports</th>\n",
       "      <th>Strategy</th>\n",
       "      <th>Utilities</th>\n",
       "      <th>Video Production</th>\n",
       "      <th>Web Publishing</th>\n",
       "      <th>item_id</th>\n",
       "      <th>user_id</th>\n",
       "      <th>review_sum</th>\n",
       "      <th>item_name</th>\n",
       "      <th>playtime_forever</th>\n",
       "    </tr>\n",
       "  </thead>\n",
       "  <tbody>\n",
       "    <tr>\n",
       "      <th>0</th>\n",
       "      <td>9.99</td>\n",
       "      <td>0.0</td>\n",
       "      <td>1.0</td>\n",
       "      <td>0.0</td>\n",
       "      <td>0.0</td>\n",
       "      <td>0.0</td>\n",
       "      <td>0.0</td>\n",
       "      <td>0.0</td>\n",
       "      <td>0.0</td>\n",
       "      <td>0.0</td>\n",
       "      <td>...</td>\n",
       "      <td>0.0</td>\n",
       "      <td>0.0</td>\n",
       "      <td>0.0</td>\n",
       "      <td>0.0</td>\n",
       "      <td>0.0</td>\n",
       "      <td>10</td>\n",
       "      <td>-GM-Dragon</td>\n",
       "      <td>2.0</td>\n",
       "      <td>Counter-Strike</td>\n",
       "      <td>14.0</td>\n",
       "    </tr>\n",
       "    <tr>\n",
       "      <th>1</th>\n",
       "      <td>9.99</td>\n",
       "      <td>0.0</td>\n",
       "      <td>1.0</td>\n",
       "      <td>0.0</td>\n",
       "      <td>0.0</td>\n",
       "      <td>0.0</td>\n",
       "      <td>0.0</td>\n",
       "      <td>0.0</td>\n",
       "      <td>0.0</td>\n",
       "      <td>0.0</td>\n",
       "      <td>...</td>\n",
       "      <td>0.0</td>\n",
       "      <td>0.0</td>\n",
       "      <td>0.0</td>\n",
       "      <td>0.0</td>\n",
       "      <td>0.0</td>\n",
       "      <td>10</td>\n",
       "      <td>-Mad-</td>\n",
       "      <td>2.0</td>\n",
       "      <td>Counter-Strike</td>\n",
       "      <td>8.0</td>\n",
       "    </tr>\n",
       "    <tr>\n",
       "      <th>2</th>\n",
       "      <td>9.99</td>\n",
       "      <td>0.0</td>\n",
       "      <td>1.0</td>\n",
       "      <td>0.0</td>\n",
       "      <td>0.0</td>\n",
       "      <td>0.0</td>\n",
       "      <td>0.0</td>\n",
       "      <td>0.0</td>\n",
       "      <td>0.0</td>\n",
       "      <td>0.0</td>\n",
       "      <td>...</td>\n",
       "      <td>0.0</td>\n",
       "      <td>0.0</td>\n",
       "      <td>0.0</td>\n",
       "      <td>0.0</td>\n",
       "      <td>0.0</td>\n",
       "      <td>10</td>\n",
       "      <td>-SEVEN-</td>\n",
       "      <td>9.0</td>\n",
       "      <td>Counter-Strike</td>\n",
       "      <td>617.0</td>\n",
       "    </tr>\n",
       "    <tr>\n",
       "      <th>3</th>\n",
       "      <td>9.99</td>\n",
       "      <td>0.0</td>\n",
       "      <td>1.0</td>\n",
       "      <td>0.0</td>\n",
       "      <td>0.0</td>\n",
       "      <td>0.0</td>\n",
       "      <td>0.0</td>\n",
       "      <td>0.0</td>\n",
       "      <td>0.0</td>\n",
       "      <td>0.0</td>\n",
       "      <td>...</td>\n",
       "      <td>0.0</td>\n",
       "      <td>0.0</td>\n",
       "      <td>0.0</td>\n",
       "      <td>0.0</td>\n",
       "      <td>0.0</td>\n",
       "      <td>10</td>\n",
       "      <td>-SatansLittleHelper-</td>\n",
       "      <td>1.0</td>\n",
       "      <td>Counter-Strike</td>\n",
       "      <td>511.0</td>\n",
       "    </tr>\n",
       "    <tr>\n",
       "      <th>4</th>\n",
       "      <td>9.99</td>\n",
       "      <td>0.0</td>\n",
       "      <td>1.0</td>\n",
       "      <td>0.0</td>\n",
       "      <td>0.0</td>\n",
       "      <td>0.0</td>\n",
       "      <td>0.0</td>\n",
       "      <td>0.0</td>\n",
       "      <td>0.0</td>\n",
       "      <td>0.0</td>\n",
       "      <td>...</td>\n",
       "      <td>0.0</td>\n",
       "      <td>0.0</td>\n",
       "      <td>0.0</td>\n",
       "      <td>0.0</td>\n",
       "      <td>0.0</td>\n",
       "      <td>10</td>\n",
       "      <td>-Ultrix</td>\n",
       "      <td>1.0</td>\n",
       "      <td>Counter-Strike</td>\n",
       "      <td>5.0</td>\n",
       "    </tr>\n",
       "  </tbody>\n",
       "</table>\n",
       "<p>5 rows × 28 columns</p>\n",
       "</div>"
      ],
      "text/plain": [
       "   price  Accounting  Action  Adventure  Animation &amp; Modeling  \\\n",
       "0   9.99         0.0     1.0        0.0                       0.0   \n",
       "1   9.99         0.0     1.0        0.0                       0.0   \n",
       "2   9.99         0.0     1.0        0.0                       0.0   \n",
       "3   9.99         0.0     1.0        0.0                       0.0   \n",
       "4   9.99         0.0     1.0        0.0                       0.0   \n",
       "\n",
       "   Audio Production  Casual  Design &amp; Illustration  Early Access  \\\n",
       "0               0.0     0.0                        0.0           0.0   \n",
       "1               0.0     0.0                        0.0           0.0   \n",
       "2               0.0     0.0                        0.0           0.0   \n",
       "3               0.0     0.0                        0.0           0.0   \n",
       "4               0.0     0.0                        0.0           0.0   \n",
       "\n",
       "   Education  ...  Sports  Strategy  Utilities  Video Production  \\\n",
       "0        0.0  ...     0.0       0.0        0.0               0.0   \n",
       "1        0.0  ...     0.0       0.0        0.0               0.0   \n",
       "2        0.0  ...     0.0       0.0        0.0               0.0   \n",
       "3        0.0  ...     0.0       0.0        0.0               0.0   \n",
       "4        0.0  ...     0.0       0.0        0.0               0.0   \n",
       "\n",
       "   Web Publishing  item_id               user_id  review_sum       item_name  \\\n",
       "0             0.0       10            -GM-Dragon         2.0  Counter-Strike   \n",
       "1             0.0       10                 -Mad-         2.0  Counter-Strike   \n",
       "2             0.0       10               -SEVEN-         9.0  Counter-Strike   \n",
       "3             0.0       10  -SatansLittleHelper-         1.0  Counter-Strike   \n",
       "4             0.0       10               -Ultrix         1.0  Counter-Strike   \n",
       "\n",
       "   playtime_forever  \n",
       "0              14.0  \n",
       "1               8.0  \n",
       "2             617.0  \n",
       "3             511.0  \n",
       "4               5.0  \n",
       "\n",
       "[5 rows x 28 columns]"
      ]
     },
     "execution_count": 148,
     "metadata": {},
     "output_type": "execute_result"
    }
   ],
   "source": [
    "df = pd.read_parquet(user_db)\n",
    "df.head(5)"
   ]
  },
  {
   "cell_type": "code",
   "execution_count": null,
   "metadata": {},
   "outputs": [],
   "source": [
    "# Optimizar  El dataframe solo para usuarios con un conteo mayor a 200"
   ]
  },
  {
   "cell_type": "code",
   "execution_count": 167,
   "metadata": {},
   "outputs": [],
   "source": [
    "df3 = df[['user_id', 'item_id', 'price']]"
   ]
  },
  {
   "cell_type": "code",
   "execution_count": 179,
   "metadata": {},
   "outputs": [],
   "source": [
    "df5 = df3.head(100000)"
   ]
  },
  {
   "cell_type": "code",
   "execution_count": 180,
   "metadata": {},
   "outputs": [],
   "source": [
    "df5.to_parquet(r'Dataset\\Procesado\\user_def_2.parquet', index=False)"
   ]
  },
  {
   "cell_type": "code",
   "execution_count": 149,
   "metadata": {},
   "outputs": [],
   "source": [
    "user = '-Mad-'"
   ]
  },
  {
   "cell_type": "code",
   "execution_count": 150,
   "metadata": {},
   "outputs": [],
   "source": [
    "dfm = df[df['user_id'] == user]"
   ]
  },
  {
   "cell_type": "code",
   "execution_count": 151,
   "metadata": {},
   "outputs": [],
   "source": [
    "money = dfm.groupby('user_id')['price'].sum()\n",
    "items = dfm.groupby('user_id')['item_id'].value_counts().sum()"
   ]
  },
  {
   "cell_type": "code",
   "execution_count": 159,
   "metadata": {},
   "outputs": [],
   "source": [
    "result = {\"Usuario X\": user, \"Dinero gastado\": float(money.values[0]), \"Cantidad de items\": int(items)}"
   ]
  },
  {
   "cell_type": "code",
   "execution_count": 160,
   "metadata": {},
   "outputs": [
    {
     "name": "stdout",
     "output_type": "stream",
     "text": [
      "{'Usuario X': '-Mad-', 'Dinero gastado': 3638.23, 'Cantidad de items': 296}\n"
     ]
    }
   ],
   "source": [
    "print(result)"
   ]
  },
  {
   "cell_type": "code",
   "execution_count": null,
   "metadata": {},
   "outputs": [],
   "source": [
    "#Lambda Function\n",
    "\n",
    "# user = '-Mad-'\n",
    "\n",
    "# dfm = df[df['user_id'] == user]\n",
    "\n",
    "# money = dfm.groupby('user_id')['price'].sum()\n",
    "# items = dfm.groupby('user_id')['item_id'].value_counts().sum()\n",
    "\n",
    "# result = {\"Usuario X\": user, \"Dinero gastado\": float(money.values), \"Cantidad de items\": int(items)}\n",
    "\n",
    "# print(result)"
   ]
  },
  {
   "cell_type": "markdown",
   "metadata": {},
   "source": [
    "## <div style=\"color: lightgreen; text-align: center;\"> .  def UserForGenre  . </div>"
   ]
  },
  {
   "cell_type": "code",
   "execution_count": 130,
   "metadata": {},
   "outputs": [
    {
     "data": {
      "text/html": [
       "<div>\n",
       "<style scoped>\n",
       "    .dataframe tbody tr th:only-of-type {\n",
       "        vertical-align: middle;\n",
       "    }\n",
       "\n",
       "    .dataframe tbody tr th {\n",
       "        vertical-align: top;\n",
       "    }\n",
       "\n",
       "    .dataframe thead th {\n",
       "        text-align: right;\n",
       "    }\n",
       "</style>\n",
       "<table border=\"1\" class=\"dataframe\">\n",
       "  <thead>\n",
       "    <tr style=\"text-align: right;\">\n",
       "      <th></th>\n",
       "      <th>price</th>\n",
       "      <th>Accounting</th>\n",
       "      <th>Action</th>\n",
       "      <th>Adventure</th>\n",
       "      <th>Animation &amp;amp; Modeling</th>\n",
       "      <th>Audio Production</th>\n",
       "      <th>Casual</th>\n",
       "      <th>Design &amp;amp; Illustration</th>\n",
       "      <th>Early Access</th>\n",
       "      <th>Education</th>\n",
       "      <th>...</th>\n",
       "      <th>Sports</th>\n",
       "      <th>Strategy</th>\n",
       "      <th>Utilities</th>\n",
       "      <th>Video Production</th>\n",
       "      <th>Web Publishing</th>\n",
       "      <th>item_id</th>\n",
       "      <th>user_id</th>\n",
       "      <th>review_sum</th>\n",
       "      <th>item_name</th>\n",
       "      <th>playtime_forever</th>\n",
       "    </tr>\n",
       "  </thead>\n",
       "  <tbody>\n",
       "    <tr>\n",
       "      <th>455071</th>\n",
       "      <td>24.99</td>\n",
       "      <td>0.0</td>\n",
       "      <td>1.0</td>\n",
       "      <td>0.0</td>\n",
       "      <td>0.0</td>\n",
       "      <td>0.0</td>\n",
       "      <td>0.0</td>\n",
       "      <td>0.0</td>\n",
       "      <td>0.0</td>\n",
       "      <td>0.0</td>\n",
       "      <td>...</td>\n",
       "      <td>0.0</td>\n",
       "      <td>0.0</td>\n",
       "      <td>0.0</td>\n",
       "      <td>0.0</td>\n",
       "      <td>0.0</td>\n",
       "      <td>219640</td>\n",
       "      <td>plumbers</td>\n",
       "      <td>4.0</td>\n",
       "      <td>Chivalry: Medieval Warfare</td>\n",
       "      <td>56.0</td>\n",
       "    </tr>\n",
       "    <tr>\n",
       "      <th>144442</th>\n",
       "      <td>14.99</td>\n",
       "      <td>0.0</td>\n",
       "      <td>1.0</td>\n",
       "      <td>0.0</td>\n",
       "      <td>0.0</td>\n",
       "      <td>0.0</td>\n",
       "      <td>0.0</td>\n",
       "      <td>0.0</td>\n",
       "      <td>0.0</td>\n",
       "      <td>0.0</td>\n",
       "      <td>...</td>\n",
       "      <td>0.0</td>\n",
       "      <td>0.0</td>\n",
       "      <td>0.0</td>\n",
       "      <td>0.0</td>\n",
       "      <td>0.0</td>\n",
       "      <td>16450</td>\n",
       "      <td>Lad123</td>\n",
       "      <td>2.0</td>\n",
       "      <td>F.E.A.R. 2: Project Origin</td>\n",
       "      <td>0.0</td>\n",
       "    </tr>\n",
       "    <tr>\n",
       "      <th>1876309</th>\n",
       "      <td>19.99</td>\n",
       "      <td>0.0</td>\n",
       "      <td>1.0</td>\n",
       "      <td>1.0</td>\n",
       "      <td>0.0</td>\n",
       "      <td>0.0</td>\n",
       "      <td>0.0</td>\n",
       "      <td>0.0</td>\n",
       "      <td>0.0</td>\n",
       "      <td>0.0</td>\n",
       "      <td>...</td>\n",
       "      <td>0.0</td>\n",
       "      <td>0.0</td>\n",
       "      <td>0.0</td>\n",
       "      <td>0.0</td>\n",
       "      <td>0.0</td>\n",
       "      <td>620</td>\n",
       "      <td>76561198055819674</td>\n",
       "      <td>5.0</td>\n",
       "      <td>Portal 2</td>\n",
       "      <td>184.0</td>\n",
       "    </tr>\n",
       "    <tr>\n",
       "      <th>1819482</th>\n",
       "      <td>19.99</td>\n",
       "      <td>0.0</td>\n",
       "      <td>1.0</td>\n",
       "      <td>1.0</td>\n",
       "      <td>0.0</td>\n",
       "      <td>0.0</td>\n",
       "      <td>0.0</td>\n",
       "      <td>0.0</td>\n",
       "      <td>0.0</td>\n",
       "      <td>0.0</td>\n",
       "      <td>...</td>\n",
       "      <td>0.0</td>\n",
       "      <td>0.0</td>\n",
       "      <td>0.0</td>\n",
       "      <td>0.0</td>\n",
       "      <td>0.0</td>\n",
       "      <td>50620</td>\n",
       "      <td>Thisbananaistastyfam</td>\n",
       "      <td>6.0</td>\n",
       "      <td>Darksiders</td>\n",
       "      <td>0.0</td>\n",
       "    </tr>\n",
       "    <tr>\n",
       "      <th>482013</th>\n",
       "      <td>9.99</td>\n",
       "      <td>0.0</td>\n",
       "      <td>0.0</td>\n",
       "      <td>0.0</td>\n",
       "      <td>0.0</td>\n",
       "      <td>0.0</td>\n",
       "      <td>0.0</td>\n",
       "      <td>0.0</td>\n",
       "      <td>0.0</td>\n",
       "      <td>0.0</td>\n",
       "      <td>...</td>\n",
       "      <td>0.0</td>\n",
       "      <td>0.0</td>\n",
       "      <td>0.0</td>\n",
       "      <td>0.0</td>\n",
       "      <td>0.0</td>\n",
       "      <td>220780</td>\n",
       "      <td>76561198079765149</td>\n",
       "      <td>1.0</td>\n",
       "      <td>Thomas Was Alone</td>\n",
       "      <td>177.0</td>\n",
       "    </tr>\n",
       "  </tbody>\n",
       "</table>\n",
       "<p>5 rows × 28 columns</p>\n",
       "</div>"
      ],
      "text/plain": [
       "         price  Accounting  Action  Adventure  Animation &amp; Modeling  \\\n",
       "455071   24.99         0.0     1.0        0.0                       0.0   \n",
       "144442   14.99         0.0     1.0        0.0                       0.0   \n",
       "1876309  19.99         0.0     1.0        1.0                       0.0   \n",
       "1819482  19.99         0.0     1.0        1.0                       0.0   \n",
       "482013    9.99         0.0     0.0        0.0                       0.0   \n",
       "\n",
       "         Audio Production  Casual  Design &amp; Illustration  Early Access  \\\n",
       "455071                0.0     0.0                        0.0           0.0   \n",
       "144442                0.0     0.0                        0.0           0.0   \n",
       "1876309               0.0     0.0                        0.0           0.0   \n",
       "1819482               0.0     0.0                        0.0           0.0   \n",
       "482013                0.0     0.0                        0.0           0.0   \n",
       "\n",
       "         Education  ...  Sports  Strategy  Utilities  Video Production  \\\n",
       "455071         0.0  ...     0.0       0.0        0.0               0.0   \n",
       "144442         0.0  ...     0.0       0.0        0.0               0.0   \n",
       "1876309        0.0  ...     0.0       0.0        0.0               0.0   \n",
       "1819482        0.0  ...     0.0       0.0        0.0               0.0   \n",
       "482013         0.0  ...     0.0       0.0        0.0               0.0   \n",
       "\n",
       "         Web Publishing  item_id               user_id  review_sum  \\\n",
       "455071              0.0   219640              plumbers         4.0   \n",
       "144442              0.0    16450                Lad123         2.0   \n",
       "1876309             0.0      620     76561198055819674         5.0   \n",
       "1819482             0.0    50620  Thisbananaistastyfam         6.0   \n",
       "482013              0.0   220780     76561198079765149         1.0   \n",
       "\n",
       "                          item_name  playtime_forever  \n",
       "455071   Chivalry: Medieval Warfare              56.0  \n",
       "144442   F.E.A.R. 2: Project Origin               0.0  \n",
       "1876309                    Portal 2             184.0  \n",
       "1819482                  Darksiders               0.0  \n",
       "482013             Thomas Was Alone             177.0  \n",
       "\n",
       "[5 rows x 28 columns]"
      ]
     },
     "execution_count": 130,
     "metadata": {},
     "output_type": "execute_result"
    }
   ],
   "source": [
    "df.sample(5)"
   ]
  },
  {
   "cell_type": "code",
   "execution_count": 191,
   "metadata": {},
   "outputs": [],
   "source": [
    "df_u = df.drop(columns=['price', 'review_sum','item_name']).copy()"
   ]
  },
  {
   "cell_type": "code",
   "execution_count": 198,
   "metadata": {},
   "outputs": [
    {
     "data": {
      "text/html": [
       "<div>\n",
       "<style scoped>\n",
       "    .dataframe tbody tr th:only-of-type {\n",
       "        vertical-align: middle;\n",
       "    }\n",
       "\n",
       "    .dataframe tbody tr th {\n",
       "        vertical-align: top;\n",
       "    }\n",
       "\n",
       "    .dataframe thead th {\n",
       "        text-align: right;\n",
       "    }\n",
       "</style>\n",
       "<table border=\"1\" class=\"dataframe\">\n",
       "  <thead>\n",
       "    <tr style=\"text-align: right;\">\n",
       "      <th></th>\n",
       "      <th>Accounting</th>\n",
       "      <th>Action</th>\n",
       "      <th>Adventure</th>\n",
       "      <th>Animation &amp;amp; Modeling</th>\n",
       "      <th>Audio Production</th>\n",
       "      <th>Casual</th>\n",
       "      <th>Design &amp;amp; Illustration</th>\n",
       "      <th>Early Access</th>\n",
       "      <th>Education</th>\n",
       "      <th>Free to Play</th>\n",
       "      <th>...</th>\n",
       "      <th>Simulation</th>\n",
       "      <th>Software Training</th>\n",
       "      <th>Sports</th>\n",
       "      <th>Strategy</th>\n",
       "      <th>Utilities</th>\n",
       "      <th>Video Production</th>\n",
       "      <th>Web Publishing</th>\n",
       "      <th>item_id</th>\n",
       "      <th>user_id</th>\n",
       "      <th>playtime_forever</th>\n",
       "    </tr>\n",
       "  </thead>\n",
       "  <tbody>\n",
       "    <tr>\n",
       "      <th>0</th>\n",
       "      <td>0.0</td>\n",
       "      <td>1.0</td>\n",
       "      <td>0.0</td>\n",
       "      <td>0.0</td>\n",
       "      <td>0.0</td>\n",
       "      <td>0.0</td>\n",
       "      <td>0.0</td>\n",
       "      <td>0.0</td>\n",
       "      <td>0.0</td>\n",
       "      <td>0.0</td>\n",
       "      <td>...</td>\n",
       "      <td>0.0</td>\n",
       "      <td>0.0</td>\n",
       "      <td>0.0</td>\n",
       "      <td>0.0</td>\n",
       "      <td>0.0</td>\n",
       "      <td>0.0</td>\n",
       "      <td>0.0</td>\n",
       "      <td>10</td>\n",
       "      <td>-GM-Dragon</td>\n",
       "      <td>14.0</td>\n",
       "    </tr>\n",
       "    <tr>\n",
       "      <th>1</th>\n",
       "      <td>0.0</td>\n",
       "      <td>1.0</td>\n",
       "      <td>0.0</td>\n",
       "      <td>0.0</td>\n",
       "      <td>0.0</td>\n",
       "      <td>0.0</td>\n",
       "      <td>0.0</td>\n",
       "      <td>0.0</td>\n",
       "      <td>0.0</td>\n",
       "      <td>0.0</td>\n",
       "      <td>...</td>\n",
       "      <td>0.0</td>\n",
       "      <td>0.0</td>\n",
       "      <td>0.0</td>\n",
       "      <td>0.0</td>\n",
       "      <td>0.0</td>\n",
       "      <td>0.0</td>\n",
       "      <td>0.0</td>\n",
       "      <td>10</td>\n",
       "      <td>-Mad-</td>\n",
       "      <td>8.0</td>\n",
       "    </tr>\n",
       "    <tr>\n",
       "      <th>2</th>\n",
       "      <td>0.0</td>\n",
       "      <td>1.0</td>\n",
       "      <td>0.0</td>\n",
       "      <td>0.0</td>\n",
       "      <td>0.0</td>\n",
       "      <td>0.0</td>\n",
       "      <td>0.0</td>\n",
       "      <td>0.0</td>\n",
       "      <td>0.0</td>\n",
       "      <td>0.0</td>\n",
       "      <td>...</td>\n",
       "      <td>0.0</td>\n",
       "      <td>0.0</td>\n",
       "      <td>0.0</td>\n",
       "      <td>0.0</td>\n",
       "      <td>0.0</td>\n",
       "      <td>0.0</td>\n",
       "      <td>0.0</td>\n",
       "      <td>10</td>\n",
       "      <td>-SEVEN-</td>\n",
       "      <td>617.0</td>\n",
       "    </tr>\n",
       "  </tbody>\n",
       "</table>\n",
       "<p>3 rows × 25 columns</p>\n",
       "</div>"
      ],
      "text/plain": [
       "   Accounting  Action  Adventure  Animation &amp; Modeling  Audio Production  \\\n",
       "0         0.0     1.0        0.0                       0.0               0.0   \n",
       "1         0.0     1.0        0.0                       0.0               0.0   \n",
       "2         0.0     1.0        0.0                       0.0               0.0   \n",
       "\n",
       "   Casual  Design &amp; Illustration  Early Access  Education  Free to Play  \\\n",
       "0     0.0                        0.0           0.0        0.0           0.0   \n",
       "1     0.0                        0.0           0.0        0.0           0.0   \n",
       "2     0.0                        0.0           0.0        0.0           0.0   \n",
       "\n",
       "   ...  Simulation  Software Training  Sports  Strategy  Utilities  \\\n",
       "0  ...         0.0                0.0     0.0       0.0        0.0   \n",
       "1  ...         0.0                0.0     0.0       0.0        0.0   \n",
       "2  ...         0.0                0.0     0.0       0.0        0.0   \n",
       "\n",
       "   Video Production  Web Publishing  item_id     user_id  playtime_forever  \n",
       "0               0.0             0.0       10  -GM-Dragon              14.0  \n",
       "1               0.0             0.0       10       -Mad-               8.0  \n",
       "2               0.0             0.0       10     -SEVEN-             617.0  \n",
       "\n",
       "[3 rows x 25 columns]"
      ]
     },
     "execution_count": 198,
     "metadata": {},
     "output_type": "execute_result"
    }
   ],
   "source": [
    "df_u.head(3)"
   ]
  },
  {
   "cell_type": "code",
   "execution_count": 196,
   "metadata": {},
   "outputs": [],
   "source": [
    "df_u = df_u.head(50000)\n"
   ]
  },
  {
   "cell_type": "code",
   "execution_count": 197,
   "metadata": {},
   "outputs": [],
   "source": [
    "df_u.to_parquet(r'Dataset\\Procesado\\user_def_1.parquet')"
   ]
  },
  {
   "cell_type": "code",
   "execution_count": 128,
   "metadata": {},
   "outputs": [],
   "source": [
    "genre_x = \"Action\""
   ]
  },
  {
   "cell_type": "code",
   "execution_count": 129,
   "metadata": {},
   "outputs": [],
   "source": [
    "dfg = df[genre_x]"
   ]
  },
  {
   "cell_type": "code",
   "execution_count": 131,
   "metadata": {},
   "outputs": [],
   "source": [
    "horas_j = dfm.groupby('user_id')['playtime_forever'].sum()"
   ]
  },
  {
   "cell_type": "code",
   "execution_count": 133,
   "metadata": {},
   "outputs": [],
   "source": [
    "user_horas_j = horas_j.idxmax()"
   ]
  },
  {
   "cell_type": "code",
   "execution_count": 165,
   "metadata": {},
   "outputs": [],
   "source": [
    "resp = {f\"Usuario con más horas jugadas para {genre_x}\": user_horas_j, \"Total horas jugadas\": float(horas_j.values[0])}"
   ]
  },
  {
   "cell_type": "code",
   "execution_count": 166,
   "metadata": {},
   "outputs": [
    {
     "name": "stdout",
     "output_type": "stream",
     "text": [
      "{'Usuario con más horas jugadas para Action': '-Mad-', 'Total horas jugadas': 175458.0}\n"
     ]
    }
   ],
   "source": [
    "print(resp)\n"
   ]
  },
  {
   "cell_type": "code",
   "execution_count": null,
   "metadata": {},
   "outputs": [],
   "source": [
    "genre_x = \"Action\"\n",
    "\n",
    "dfg = df[genre_x]\n",
    "\n",
    "horas_j = dfm.groupby('user_id')['playtime_forever'].sum()\n",
    "user_horas_j = horas_j.idxmax()\n",
    "\n",
    "resp = {f\"Usuario con más horas jugadas para {genre_x}\": user_horas_j, \"Total horas jugadas\": float(horas_j.values[0])}"
   ]
  },
  {
   "cell_type": "markdown",
   "metadata": {},
   "source": [
    "## <div style=\"color: lightgreen; text-align: center;\"> .  def recomendacion_juego  . </div>"
   ]
  },
  {
   "cell_type": "code",
   "execution_count": 47,
   "metadata": {},
   "outputs": [],
   "source": [
    "#importamos la biblioteca\n",
    "from sklearn.metrics.pairwise import cosine_similarity"
   ]
  },
  {
   "cell_type": "code",
   "execution_count": 85,
   "metadata": {},
   "outputs": [],
   "source": [
    "import numpy as np"
   ]
  },
  {
   "cell_type": "code",
   "execution_count": 48,
   "metadata": {},
   "outputs": [],
   "source": [
    "# Eliminamos la columnas con las que no vamos a trabajar del df\n",
    "df_processed = df.drop(columns=['developer', 'release_date', 'price']) "
   ]
  },
  {
   "cell_type": "code",
   "execution_count": 49,
   "metadata": {},
   "outputs": [],
   "source": [
    "df_processed.set_index('item_id', inplace=True)"
   ]
  },
  {
   "cell_type": "code",
   "execution_count": 87,
   "metadata": {},
   "outputs": [
    {
     "data": {
      "text/plain": [
       "(49057, 3)"
      ]
     },
     "execution_count": 87,
     "metadata": {},
     "output_type": "execute_result"
    }
   ],
   "source": [
    "df_processed.shape"
   ]
  },
  {
   "cell_type": "code",
   "execution_count": 50,
   "metadata": {},
   "outputs": [],
   "source": [
    "# Cálculo de similitud\n",
    "similarity_matrix = cosine_similarity(df_processed)"
   ]
  },
  {
   "cell_type": "code",
   "execution_count": null,
   "metadata": {},
   "outputs": [],
   "source": [
    "if not producto.empty:\n",
    "    product_index = producto.index[0]\n",
    "    product_similarities = similarity_matrix[product_index]\n",
    "    most_similar_products_indices = np.argsort(-product_similarities)\n",
    "    most_similar_products = data.loc[most_similar_products_indices, 'nombre']\n",
    "    print(\"Los productos más similares al producto\", nombre_del_producto, \"son:\")\n",
    "    print(most_similar_products)\n",
    "else:\n",
    "    print(\"Producto no encontrado\")"
   ]
  },
  {
   "cell_type": "code",
   "execution_count": 88,
   "metadata": {},
   "outputs": [],
   "source": [
    "item_id = 10"
   ]
  },
  {
   "cell_type": "code",
   "execution_count": 86,
   "metadata": {},
   "outputs": [
    {
     "ename": "MemoryError",
     "evalue": "Unable to allocate 17.9 GiB for an array with shape (1, 49057, 49057) and data type float64",
     "output_type": "error",
     "traceback": [
      "\u001b[1;31m---------------------------------------------------------------------------\u001b[0m",
      "\u001b[1;31mMemoryError\u001b[0m                               Traceback (most recent call last)",
      "Cell \u001b[1;32mIn[86], line 1\u001b[0m\n\u001b[1;32m----> 1\u001b[0m similarity_matrix_2 \u001b[38;5;241m=\u001b[39m \u001b[43mnp\u001b[49m\u001b[38;5;241;43m.\u001b[39;49m\u001b[43marray\u001b[49m\u001b[43m(\u001b[49m\u001b[43m[\u001b[49m\u001b[43msimilarity_matrix\u001b[49m\u001b[43m]\u001b[49m\u001b[43m)\u001b[49m\n",
      "\u001b[1;31mMemoryError\u001b[0m: Unable to allocate 17.9 GiB for an array with shape (1, 49057, 49057) and data type float64"
     ]
    }
   ],
   "source": [
    "if not item_id.empty:\n",
    "    \n",
    "    product_similarities = similarity_matrix[df[df['item_id'] == item_id]]\n",
    "    most_similar_products_indices = np.argsort(-product_similarities)\n",
    "    most_similar_products = data.loc[most_similar_products_indices, 'nombre']\n",
    "    print(\"Los productos más similares al producto\", nombre_del_producto, \"son:\")\n",
    "    print(most_similar_products)\n",
    "else:\n",
    "    print(\"Producto no encontrado\")"
   ]
  },
  {
   "cell_type": "code",
   "execution_count": 99,
   "metadata": {},
   "outputs": [],
   "source": [
    "def get_top_similar_items(item_id, n=5):\n",
    "    item_index = df_processed.index.get_loc(item_id)\n",
    "    similar_items = similarity_matrix[item_index]\n",
    "    # Obtener los índices de los elementos más similares en orden descendente\n",
    "    similar_items_indices = similar_items.argsort()[::-1][:n]\n",
    "    # Convertir a una lista plana\n",
    "    similar_items_indices = similar_items_indices.flatten()\n",
    "    # Excluir el propio elemento y devolver los elementos similares del DataFrame\n",
    "    return df_processed.iloc[similar_items_indices]"
   ]
  },
  {
   "cell_type": "code",
   "execution_count": 106,
   "metadata": {},
   "outputs": [],
   "source": [
    "#Hago una prueba\n",
    "recommended_items = get_top_similar_items(338000)"
   ]
  },
  {
   "cell_type": "code",
   "execution_count": 107,
   "metadata": {},
   "outputs": [
    {
     "name": "stdout",
     "output_type": "stream",
     "text": [
      "         malo  neutral  positivo\n",
      "item_id                         \n",
      "200210      0        1         0\n",
      "440         1        0         0\n",
      "338000      1        0         0\n",
      "274190      1        0         0\n",
      "369580      0        1         0\n"
     ]
    }
   ],
   "source": [
    "print(recommended_items.head(5))"
   ]
  }
 ],
 "metadata": {
  "kernelspec": {
   "display_name": ".venv",
   "language": "python",
   "name": "python3"
  },
  "language_info": {
   "codemirror_mode": {
    "name": "ipython",
    "version": 3
   },
   "file_extension": ".py",
   "mimetype": "text/x-python",
   "name": "python",
   "nbconvert_exporter": "python",
   "pygments_lexer": "ipython3",
   "version": "3.11.9"
  }
 },
 "nbformat": 4,
 "nbformat_minor": 2
}
